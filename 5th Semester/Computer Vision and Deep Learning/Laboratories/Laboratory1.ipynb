{
  "nbformat": 4,
  "nbformat_minor": 0,
  "metadata": {
    "kernelspec": {
      "display_name": "Python 3",
      "language": "python",
      "name": "python3"
    },
    "language_info": {
      "codemirror_mode": {
        "name": "ipython",
        "version": 3
      },
      "file_extension": ".py",
      "mimetype": "text/x-python",
      "name": "python",
      "nbconvert_exporter": "python",
      "pygments_lexer": "ipython3",
      "version": "3.7.6"
    },
    "colab": {
      "provenance": []
    }
  },
  "cells": [
    {
      "cell_type": "markdown",
      "metadata": {
        "id": "6O1hMQZ4bcBY"
      },
      "source": [
        "# Laboratory 1"
      ]
    },
    {
      "cell_type": "markdown",
      "metadata": {
        "id": "AwEqZ118bcBZ"
      },
      "source": [
        "Hello and welcome to your first laboratory!\n",
        "\n",
        "This is an introductory session to Python and a few libraries that we'll frequently use in this course (numpy, matplotlib, opencv, pytorch).\n",
        "\n",
        "After completing this session, you will:\n",
        "* gain some basic image manipulation skills\n",
        "* be able to vectorize code (avoid using for loops)\n",
        "* get familiar with the concept of broadcasting in numpy\n",
        "\n",
        "For some of the exercises you'll have the expected output displayed just below the cell, so that you can check if your output is correct.\n"
      ]
    },
    {
      "cell_type": "code",
      "metadata": {
        "id": "S7Jjz2pObcBa"
      },
      "source": [
        "# library imports\n",
        "import cv2\n",
        "import numpy as np\n",
        "import matplotlib.pyplot as plt\n",
        "\n",
        "%matplotlib inline\n",
        "#The line above is necesary to show Matplotlib's plots inside a Jupyter Notebook"
      ],
      "execution_count": null,
      "outputs": []
    },
    {
      "cell_type": "code",
      "metadata": {
        "id": "RxVqhpd_YmLZ"
      },
      "source": [
        "!wget \"http://drive.google.com/uc?export=download&id=1fRvlErNtIV-HX9Vat0I6FINBXEafeDC7\" -O dance_moves.png\n",
        "!wget \"https://docs.google.com/uc?export=download&id=1zjltpYscUqnDSP6eUlU-gecadGXvQtTz\" -O cute_cat.jpg\n",
        "!wget \"http://drive.google.com/uc?export=download&id=1y46KaIsyhgh030Zi9eoAYfO_ezkE4CY3\" -O axes.jpg\n",
        "!wget \"http://drive.google.com/uc?export=download&id=11Jzu1t1RVXMWxp0OK3KJaUgKv9exqv2O\" -O sum0.jpg\n",
        "!wget \"http://drive.google.com/uc?export=download&id=1LUYh0HtP6Vd2eq7rPXOhXjBKXlvU--L5\" -O sum1.jpg\n",
        "!wget \"http://drive.google.com/uc?export=download&id=1q_BsBdLZXxA2fkrY1WXWn8B5RGOFBLUd\" -O concat0.jpg\n",
        "!wget \"http://drive.google.com/uc?export=download&id=1491c1NZQMOnHlvVp6eiiIl2l1wYO6o56\" -O concat1.jpg"
      ],
      "execution_count": null,
      "outputs": []
    },
    {
      "cell_type": "markdown",
      "metadata": {
        "id": "QxGHu5XKbcBe"
      },
      "source": [
        "# *numpy*"
      ]
    },
    {
      "cell_type": "markdown",
      "metadata": {
        "id": "CrDeVG_BbcBf"
      },
      "source": [
        "We'll frequently use the *numpy* library for this lecture; *numpy* is perhaps the most popular library used for scientific computing in Python. The libray works with multidimensional arrays, and provides several operations to efficiently manipulate these arrays.\n",
        "\n",
        "An array contains elements of the same type, arranged in a grid of values. An array can be accessed by a tuple of non-negative integers, by booleans, by another array, or by integers, as we'll see later in this laboratory.\n",
        "\n",
        "An array is described by its:\n",
        "- rank - the number of dimensions of the array\n",
        "- shape - a tuple that specifies the size of the array along each dimension\n",
        "- type - the library provides several numeric datatypes (uint8, float32, int32 etc.)\n",
        "\n",
        "There are several ways you can create an array in numpy:"
      ]
    },
    {
      "cell_type": "code",
      "metadata": {
        "id": "7wB8kGa3bcBf"
      },
      "source": [
        "# create an array with rank 1\n",
        "a = np.array([1, 2, 3])\n",
        "print('a is a numpy array ', type(a))\n",
        "print('the shape of a is ', a.shape, ' and its rank is ', len(a.shape))\n",
        "print('the type of the elements stored in a is ', a.dtype)\n",
        "print('---')\n",
        "b = np.array([[1.0, 2, 3],[4, 5, 6]])\n",
        "print('the shape of b is ', b.shape, ' and its rank is ', len(b.shape))\n",
        "print('the type of the elements stored in b is ', b.dtype)\n",
        "print('---')\n",
        "# numpy automatically determines the type of the elements that will be stored in the array\n",
        "# but you can also specify the type in the constructor\n",
        "c = np.array([[[0]]], dtype=np.uint8)\n",
        "print('the shape of c is ', c.shape, ' and its rank is ', len(c.shape))\n",
        "print('the type of the elements stored in c is ', c.dtype)"
      ],
      "execution_count": null,
      "outputs": []
    },
    {
      "cell_type": "code",
      "metadata": {
        "id": "PnERTZ2bbcBi"
      },
      "source": [
        "# there are also other array constructors that you might find useful\n",
        "a = np.zeros(shape=(1, 2)) # creates an array filled with 0s of shape (1, 2) - 1 row, two columns\n",
        "print('zeros array {} of shape {}'.format(a, a.shape))\n",
        "\n",
        "b = np.ones((224, 224, 3), dtype=np.uint8) # creates an array filled with ones of shape (224, 224, 3) and type uint8\n",
        "\n",
        "c = np.full((4, 4, 3), 255) # creates an array filled with 255 of shape (4, 4, 3)\n",
        "\n",
        "d = np.eye(3) # creates an identity matrix of size (3x3)\n",
        "print('identity matrix of size 3x3 ', d)\n",
        "\n",
        "r = np.random.random(10) # creates an array of 10 elements, filled with random values\n",
        "print('array of 10 random elements ', r)\n",
        "\n",
        "zl = np.zeros_like(r) # create a new array with the same shape as r, but filled with 0 values"
      ],
      "execution_count": null,
      "outputs": []
    },
    {
      "cell_type": "markdown",
      "metadata": {
        "id": "P8sIkG0AbcBl"
      },
      "source": [
        "## Indexing"
      ]
    },
    {
      "cell_type": "code",
      "metadata": {
        "id": "cpmb-M2qbcBm"
      },
      "source": [
        "a = np.array([1, 2, 3])\n",
        "print('a is ', a)\n",
        "a[2] = 4\n",
        "print('Set the 2nd element to 4')\n",
        "print('Modified a is:')\n",
        "print(a)\n",
        "\n",
        "print('---')\n",
        "b = np.eye(3)\n",
        "b[1, 1] = 2\n",
        "print('Modified b is')\n",
        "print(b)\n",
        "\n",
        "# you can use normal integer indexing\n",
        "print('The first row of b is: ', b[0])\n",
        "print('The second element from the second row of b is ', b[1, 1])"
      ],
      "execution_count": null,
      "outputs": []
    },
    {
      "cell_type": "markdown",
      "metadata": {
        "id": "F7udkMosbcBp"
      },
      "source": [
        "Similar to python lists, *numpy* allows you to <i>slice</i> the array; this is just a  flexible way to access subarrays."
      ]
    },
    {
      "cell_type": "code",
      "metadata": {
        "id": "Fk6heUzGbcBp"
      },
      "source": [
        "# slicing\n",
        "a = np.arange(1, 10, 1) # returns an array with evenly spaced values in the interval [1, 10), with a step of 1\n",
        "[1, 2, 3, 4, ..., 9]\n",
        "print('a is \\n', a)\n",
        "print('a[3:6] is \\n', a[3:6])   # get a slice from index 3 to 6 (exclusive)\n",
        "print('a[3:] is \\n', a[3:])    # get a slice from index 3 to the end\n",
        "print('a[:3] is \\n', a[:3])    # get a slice from the start to index 3 (exclusive)\n",
        "print('a[4:-1] is \\n', a[4:-1])  # get a slice from index 4 start to the last element of the array (exclusive)"
      ],
      "execution_count": null,
      "outputs": []
    },
    {
      "cell_type": "code",
      "source": [
        "a = np.array([[1,2,3,4], [5,6,7,8], [9,10,11,12]])\n",
        "print('a: ', a)\n",
        "\n",
        "## ATTENTION! a slice is just a view on an array, so it points to the same data\n",
        "# modifying it, it will modify the original array\n",
        "r = a[:1,:]\n",
        "print('row1:',  r)\n",
        "print('a[0][0]: ', a[0, 0])\n",
        "print('r[0][0]: ', r[0, 0])\n",
        "print('r[0, 0] = 100')\n",
        "r[0, 0] = 100\n",
        "print('row1:',  r)\n",
        "print('a[0][0]: ', a[0, 0])\n",
        "print('r[0][0]: ', r[0, 0])"
      ],
      "metadata": {
        "id": "4nGM3GvtsEma"
      },
      "execution_count": null,
      "outputs": []
    },
    {
      "cell_type": "markdown",
      "metadata": {
        "id": "FCbf-Aq9bcBs"
      },
      "source": [
        "*numpy* also support integer array indexing.\n",
        "\n",
        "**Attention**, there is a slight (and important) difference when using integer array indexing: when using slicing, the result will also be a subarray of the existing array (a view on the existing array), while integer array indexing allows you to create new arrays based on the the data in the original array."
      ]
    },
    {
      "cell_type": "code",
      "metadata": {
        "id": "IG6fKQLMbcBs"
      },
      "source": [
        "a = np.array(np.arange(0, 6, 1))\n",
        "indices = [0, 2, 4]\n",
        "b = a[indices] # this will get the elements from the indices 0, 2, 4 from the array a\n",
        "print('original array: \\n', a)\n",
        "print('The elements in a from the indices', indices, 'are: \\n', b)"
      ],
      "execution_count": null,
      "outputs": []
    },
    {
      "cell_type": "code",
      "source": [
        "a = np.array([[1,2,3,4], [5,6,7,8], [9,10,11,12]])\n",
        "indices = [[0, 1, 2], [2, 1, 0]] # this will get the elements from the indices (0, 2), (1, 1) and (2, 0) from the array a\n",
        "b = a[tuple(indices)]  # b will be [3, 6, 9]\n",
        "print('original array: \\n', a)\n",
        "print('The elements in the array at indices', indices, 'are: \\n', b)\n",
        "\n",
        "print('---')\n",
        "# modifying this array, won't modify the original array\n",
        "print(b)\n",
        "b[0] = 100\n",
        "print('b[0] = 100')\n",
        "print('a = ', a)\n",
        "print('b = ', b)"
      ],
      "metadata": {
        "id": "Ynn90kZQv-1T"
      },
      "execution_count": null,
      "outputs": []
    },
    {
      "cell_type": "markdown",
      "source": [
        "More indexing examples:\n"
      ],
      "metadata": {
        "id": "BCRIl7ntwJhV"
      }
    },
    {
      "cell_type": "code",
      "source": [
        "print('More array indexing examples: ')\n",
        "# with array indexing you can reuse the same index from the original array\n",
        "b = a[[0, 0], [1, 1]]\n",
        "print('b = a[[0, 0], [1, 1]] =', b)\n",
        "#  equivalent to\n",
        "b = [a[0, 1], a[0, 1]]\n",
        "print('b = [a[0, 1], a[0, 1]] =', b)\n",
        "\n",
        "print('---')\n",
        "print('Using array indexing to modify an element from each row in a matrix: ')\n",
        "# modifing an element from each row in a matrix\n",
        "ind = np.array([1, 0, 1])\n",
        "a[np.arange(3), ind] = -100\n",
        "print(a)"
      ],
      "metadata": {
        "id": "9Y23YQY5wMA8"
      },
      "execution_count": null,
      "outputs": []
    },
    {
      "cell_type": "markdown",
      "metadata": {
        "id": "79PT3GxRbcBw"
      },
      "source": [
        "Array indexing can be mixed with slicing. When using slicing the resulting array will have the same rank as the original array, while when using array indexing you will get an array with a lower rank than the original array."
      ]
    },
    {
      "cell_type": "code",
      "metadata": {
        "id": "BoXijGYybcBx"
      },
      "source": [
        "a = np.array([[1,2,3,4], [5,6,7,8], [9,10,11,12]])\n",
        "last_row_indexing = a[-1, :]\n",
        "last_row_slicing = a[2:3, :]\n",
        "print('Last row obtained with array indexing:\\n',\n",
        "      last_row_indexing, 'has shape:', last_row_indexing.shape)\n",
        "print('Last row obtained with array slicing:\\n',\n",
        "      last_row_slicing, 'has shape:', last_row_slicing.shape)"
      ],
      "execution_count": null,
      "outputs": []
    },
    {
      "cell_type": "markdown",
      "metadata": {
        "id": "7ZWwEoJVbcB1"
      },
      "source": [
        "*numpy* also allows you to use boolean array indexing, in which an array of booleans is used as a mask to select arbitrary elements in the array.\n",
        "impo\n"
      ]
    },
    {
      "cell_type": "code",
      "metadata": {
        "id": "Nf3aqLIGbcB1"
      },
      "source": [
        "a = np.array([11, 12, 13, 14])\n",
        "indices = (a > 12)\n",
        "# a > 12 returns an array of boolean of the same size as a;\n",
        "# an element in this array is True is the element stored in the same position in a is larger than 12\n",
        "\n",
        "print('a>12:\\n', indices)\n",
        "print('The numbers larger than 12 in a are:\\n', a[indices])"
      ],
      "execution_count": null,
      "outputs": []
    },
    {
      "cell_type": "markdown",
      "metadata": {
        "id": "oOjvZ7CnbcB4"
      },
      "source": [
        "## array operations\n",
        "*numpy* provides functions and operator overload for various arithmetical operations on the arrays, such addition, subtraction, multiplication, dot products etc.\n",
        "\n",
        "\n",
        "*Attention!!* **np.multiply** performs elementwise multiplication. If you want to perform matrix multiplication, you should use the **np.dot** function *!!*"
      ]
    },
    {
      "cell_type": "code",
      "metadata": {
        "scrolled": true,
        "id": "uAczKHPXbcB5"
      },
      "source": [
        "a = np.array([[1, 2],\n",
        "             [3, 4]])\n",
        "b = np.array([[11, 12],\n",
        "             [13, 14]])\n",
        "\n",
        "print('a is: ', a)\n",
        "print('b is: ', b)\n",
        "# elementwise operations\n",
        "print('a+b is: \\n', a + b)\n",
        "print('a+b is: \\n', np.add(a, b))\n",
        "\n",
        "print('a-b is: \\n', a - b)\n",
        "print('a-b is: \\n', np.subtract(a, b))\n",
        "\n",
        "print('The maximum element in a is :', np.amax(a))\n",
        "print('The position of this element in a is :', np.argmax(a)) # by default it returns the max in the flattened array\n",
        "\n",
        "print('|a-b| is: \\n', np.abs(a - b))\n",
        "\n",
        "print('a*b (element wise) is: \\n', a*b)\n",
        "print('a*b (element wise) is: \\n', np.multiply(a, b))\n",
        "\n",
        "v = np.array([10, 20])\n",
        "w = np.array([11, 11])\n",
        "print('Dot product v x w is:\\n', v.dot(w))\n",
        "print('Dot product v x w is:\\n', np.dot(v, w))\n",
        "\n",
        "print('Dot product a x v (matrix x vector) is:\\n', a.dot(v))\n",
        "\n",
        "print('Dot product a x b (matrix x matrix) is:\\n', a.dot(b))"
      ],
      "execution_count": null,
      "outputs": []
    },
    {
      "cell_type": "markdown",
      "metadata": {
        "id": "-NAue72gbcB9"
      },
      "source": [
        "## numpy axes\n",
        "\n",
        "Another concept that is perhaps confusing for beginners in numpy is the concept of axes. As you'll see several mathematical functions (**np.sum**, **np.mean**, **np.min** etc.) require you to specify the axis along the operation should be applied.\n",
        "\n",
        "Just as the cartesian coordinate system, numpy arrays have axes. For example, for a 2D array, the rows are the first axis (0 axis), and the columns are the second axis (axis 1).\n",
        "\n"
      ]
    },
    {
      "cell_type": "code",
      "metadata": {
        "id": "T8zgLsS1NdyK"
      },
      "source": [
        "img_axes = cv2.imread('axes.jpg')\n",
        "dpi = plt.rcParams['figure.dpi']\n",
        "\n",
        "height, width, depth = img_axes.shape\n",
        "figsize = width / float(dpi), height / float(dpi)\n",
        "plt.figure(figsize=figsize)\n",
        "plt.imshow(img_axes)"
      ],
      "execution_count": null,
      "outputs": []
    },
    {
      "cell_type": "markdown",
      "metadata": {
        "id": "HsqV_7u_NeEI"
      },
      "source": [
        "Is is important to understand, for each operation, what the axis element controls.\n",
        "\n",
        "For the common matemathical operations, which for example aggregate your data, the axis parameter controls which axis will be collapsed.\n",
        "So, for example, if you have an array a, and you perform the operation np.sum(a, axis = 0), the rows will be collapsed and this will sum down the columns. (It will not sum the rows).\n"
      ]
    },
    {
      "cell_type": "code",
      "metadata": {
        "id": "ACbppwrQRUuD"
      },
      "source": [
        "img_sum0 = cv2.imread('sum0.jpg')\n",
        "dpi = plt.rcParams['figure.dpi']\n",
        "\n",
        "height, width, depth = img_sum0.shape\n",
        "figsize = width / float(dpi), height / float(dpi)\n",
        "plt.figure(figsize=figsize)\n",
        "plt.imshow(img_sum0)\n",
        "\n",
        "a = np.array([[1, 2, 3, 4], [5, 6, 7, 8]])\n",
        "sum = np.sum(a, axis=0)\n",
        "print(sum, sum.shape)"
      ],
      "execution_count": null,
      "outputs": []
    },
    {
      "cell_type": "markdown",
      "metadata": {
        "id": "zwcAeZ5bRU_l"
      },
      "source": [
        "Similarly, if you have an array a, and you perform the operation np.sum(a, axis = 1), the columns will be collapsed and this will sum down the rows. (It will not sum the columns).\n"
      ]
    },
    {
      "cell_type": "code",
      "metadata": {
        "id": "OgOt5TWoRtX0"
      },
      "source": [
        "img_sum1 = cv2.imread('sum1.jpg')\n",
        "dpi = plt.rcParams['figure.dpi']\n",
        "\n",
        "height, width, depth = img_sum1.shape\n",
        "figsize = width / float(dpi), height / float(dpi)\n",
        "plt.figure(figsize=figsize)\n",
        "plt.imshow(img_sum1)\n",
        "\n",
        "\n",
        "a = np.array([[1, 2, 3, 4], [5, 6, 7, 8]])\n",
        "sum = np.sum(a, axis=1)\n",
        "print(sum, sum.shape)"
      ],
      "execution_count": null,
      "outputs": []
    },
    {
      "cell_type": "markdown",
      "metadata": {
        "id": "CLmD3M9RRtiy"
      },
      "source": [
        "Another example, for the concatentaion operation, the axis operator specifies the axis along which to stack the arrays.\n",
        "\n",
        "If we specify the axis = 0 for concatenation, the arrays will be stacked along the rows (they will be concatenated vertically).\n"
      ]
    },
    {
      "cell_type": "code",
      "metadata": {
        "id": "JWt8WHmlR6oD"
      },
      "source": [
        "img_concat0 = cv2.imread('concat0.jpg')\n",
        "dpi = plt.rcParams['figure.dpi']\n",
        "\n",
        "height, width, depth = img_concat0.shape\n",
        "figsize = width / float(dpi), height / float(dpi)\n",
        "plt.figure(figsize=figsize)\n",
        "plt.imshow(img_concat0)"
      ],
      "execution_count": null,
      "outputs": []
    },
    {
      "cell_type": "markdown",
      "metadata": {
        "id": "3k7OhYtnR60C"
      },
      "source": [
        "If we specify the axis = 1 for concatenation, the arrays will be stacked along the columns (they will be concatenated horizontally).\n",
        "\n"
      ]
    },
    {
      "cell_type": "code",
      "metadata": {
        "id": "aekSOxn2SM_S"
      },
      "source": [
        "img_concat1 = cv2.imread('concat1.jpg')\n",
        "dpi = plt.rcParams['figure.dpi']\n",
        "\n",
        "height, width, depth = img_concat1.shape\n",
        "figsize = width / float(dpi), height / float(dpi)\n",
        "plt.figure(figsize=figsize)\n",
        "plt.imshow(img_concat1)"
      ],
      "execution_count": null,
      "outputs": []
    },
    {
      "cell_type": "code",
      "metadata": {
        "id": "kkmxsjAlbcB_"
      },
      "source": [
        "a = np.array([[1, 2, 3, 4], [5, 6, 7, 8]])\n",
        "\n",
        "print('The sum of each column is: \\n ', np.sum(a, axis = 0))\n",
        "\n",
        "print('The sum of each row is: \\n ', np.sum(a, axis = 1))\n",
        "\n",
        "b = np.array([[1, 1, 1, 1], [2, 2, 2, 2]])\n",
        "\n",
        "print('Concatenate vertically: \\n', np.concatenate([a, b], axis = 0))\n",
        "\n",
        "print('Concatenate horizontally: \\n', np.concatenate([a, b], axis = 1))"
      ],
      "execution_count": null,
      "outputs": []
    },
    {
      "cell_type": "code",
      "metadata": {
        "id": "6tz0L_JfbcCC"
      },
      "source": [
        "# example with 1D arrays\n",
        "a = np.array([0, 0, 0])\n",
        "b = np.array([1, 1, 1])\n",
        "\n",
        "print(np.concatenate([a, b], axis=0)) # attention! 1D arrays have only one axis\n",
        "\n",
        "a = a.reshape((1, 3))\n",
        "b = b[np.newaxis, :]\n",
        "\n",
        "print(np.concatenate([a, b], axis=0))\n",
        "\n",
        "# Good practice: reshape your arrays to (1, dim): a = a.reshape((1, 3))"
      ],
      "execution_count": null,
      "outputs": []
    },
    {
      "cell_type": "markdown",
      "metadata": {
        "id": "SzQLX0XNbcCF"
      },
      "source": [
        "## Vectorization\n",
        "\n",
        "\"<i>Vectorization is the art of getting rid of for loops in your code.</i>\" (Andrew Ng)\n",
        "\n",
        "*numpy* provides a series of functions that allow the programmer to perform mathematical computations on the elements of the array without having to explicitly loop over the array elements; these functions are much more efficient as python delegates these tasks to compiled and optimized C code.\n",
        "\n",
        "A formal definiton of vectorization is:\n",
        "\"In the context of high-level languages like Python, Matlab, and R, the term vectorization describes the use of optimized, pre-compiled code written in a low-level language (e.g. C) to perform mathematical operations over a sequence of data. This is done in place of an explicit iteration written in the native language code.\" (check this tutorial for details: https://www.pythonlikeyoumeanit.com/Module3_IntroducingNumpy/VectorizedOperations.html)\n",
        "\n",
        "Using for loops to access array elements (when dealing with large data) is highly inefficient, as demonstrated in the examples below.\n",
        "Therefore, especially for this course, when we'll deal with a lot of training data and large neural network architectures, you should always use vectorization when writing your code. Otherwise, it will take a very very very :) long time to get your model to perform a single iteration over your training data."
      ]
    },
    {
      "cell_type": "code",
      "metadata": {
        "id": "EuBIkeVlbcCF"
      },
      "source": [
        "import numpy as np\n",
        "import time\n",
        "a1 = np.random.rand(1000000)\n",
        "a2 = np.random.rand(1000000)\n",
        "\n",
        "t1 = time.time()\n",
        "dp_vectorized = a1.dot(a2)\n",
        "time_vectorized = time.time() - t1\n",
        "\n",
        "t1 = time.time()\n",
        "dp_loops = 0\n",
        "for i in range(0, a1.shape[0]):\n",
        "    dp_loops += a1[i]*a2[i]\n",
        "time_loops = time.time() - t1\n",
        "\n",
        "print(dp_vectorized)\n",
        "print(dp_loops)\n",
        "\n",
        "print('Time to compute dot product using loops: ', time_loops, 'milliseconds')\n",
        "print('Time to compute dot product using vectorization: ', time_vectorized, 'milliseconds')\n",
        "print('Speedup ', time_loops/time_vectorized)\n",
        "\n",
        "\n",
        "arr_size = []\n",
        "arr_time_vectorized = []\n",
        "arr_time_loops = []\n",
        "\n",
        "\n",
        "\n",
        "for sz in range(100, 1000000, 10000):\n",
        "    t1 = time.time()\n",
        "    a1 = np.random.rand(sz)\n",
        "    a2 = np.random.rand(sz)\n",
        "    dp_vectorized = a1.dot(a2)\n",
        "    time_vectorized = time.time() - t1\n",
        "\n",
        "    t1 = time.time()\n",
        "    dp_loops = 0\n",
        "    for i in range(0, a1.shape[0]):\n",
        "        dp_loops += a1[i]*a2[i]\n",
        "    time_loops = time.time() - t1\n",
        "    arr_size.append(sz)\n",
        "\n",
        "    arr_time_vectorized.append(time_vectorized)\n",
        "    arr_time_loops.append(time_loops)\n",
        "\n",
        "\n",
        "plt.plot(arr_size, arr_time_vectorized, label='vectorized')\n",
        "plt.plot(arr_size, arr_time_loops, label='using loops')\n",
        "plt.legend()\n",
        "plt.xlabel('array size')\n",
        "plt.ylabel('execution time (ms)')\n",
        "plt.show()"
      ],
      "execution_count": null,
      "outputs": []
    },
    {
      "cell_type": "markdown",
      "metadata": {
        "id": "W9f49myBbcCH"
      },
      "source": [
        "## Broadcasting\n",
        "\n",
        "Broadcasting is a *numpy* features that allows us to perfom operations on arrays with different shapes; frequently we may need to work with arrays with different size and apply some operations on these arrays. With broadcasting, if the arrays don't have the same size, the smaller size array is \"broadcast\" to match the shape of the larger array. This also helps with vectorizing array operations.\n",
        "\n",
        "To be able to broadcast, **the size of the arrays in the trailing axes must be the same, or one of these dimensions must be 1**.\n",
        "If the arrays don't have the same rank, we add 1 dimensions to the left ,i.e. **prepend the shape property with ones, until the arrays have the same rank**.\n",
        "\n",
        "Always, the result of broadcasting is the maximum size along each dimension from the input arrays.\n",
        "\n",
        "You can check this tutorial for further information: http://scipy.github.io/old-wiki/pages/EricsBroadcastingDoc"
      ]
    },
    {
      "cell_type": "code",
      "metadata": {
        "id": "6uhNOA3ebcCI"
      },
      "source": [
        "x1 = np.array([[1, 2, 3]]) # shape: (1, 3)\n",
        "x2 = np.array([\n",
        "    [1],\n",
        "    [2],\n",
        "    [3]]) # shape: (3, 1)\n",
        "\n",
        "print(x1+x2)"
      ],
      "execution_count": null,
      "outputs": []
    },
    {
      "cell_type": "code",
      "source": [
        "a = np.array([[1, 2, 3], [4, 5, 6], [7, 8, 9]]) # shape: (3, 3)\n",
        "b = np.array([0, 1, 2]) # (3,)\n",
        "\n",
        "# add the two vectors using broadcasting\n",
        "s = a + b\n",
        "print(s)\n",
        "\n",
        "\n",
        "# the code snippet above is equvalent to the code below (but without making unnecessary copies)\n",
        "print(b.shape)\n",
        "b_expanded = np.tile(b, (3, 1)) # this stacks 3 copies of b -> (3, 3)\n",
        "print(b_expanded.shape)\n",
        "print(b_expanded)\n",
        "s = a + b_expanded"
      ],
      "metadata": {
        "id": "2CZNcQH7zVI4"
      },
      "execution_count": null,
      "outputs": []
    },
    {
      "cell_type": "code",
      "source": [
        "# add a vector to each complun of a matrix\n",
        "a = np.array([[1, 2, 3], [4, 5, 6]])\n",
        "b = np.array([0, 2])\n",
        "\n",
        "# transpose the matrix a (a.T) such that is has shape (3, 2), the array b has shape (2,)\n",
        "# they can be broadcasted together and then we can transpose the result\n",
        "print('a.T=\\n', a.T)\n",
        "print('b.T=\\n', b.T)\n",
        "print('(a.T+b).T=\\n',(a.T+b).T)"
      ],
      "metadata": {
        "id": "4opLIw2G0LFQ"
      },
      "execution_count": null,
      "outputs": []
    },
    {
      "cell_type": "code",
      "metadata": {
        "id": "UPbTFq9EbcCK"
      },
      "source": [
        "a = np.array([0, 1, 2, 3])\n",
        "b = np.array([4, 5, 6])\n",
        "print(a.shape)\n",
        "print(b.shape)\n",
        "\n",
        "try:\n",
        "    print(a+b)\n",
        "except ValueError:\n",
        "    print('Unable to broadcast arrays with shapes ', a.shape, b.shape)\n",
        "\n",
        "a = a.reshape((4, 1))\n",
        "# or you might see this syntax: a = a[:, np.newaxis]\n",
        "print(a.shape)\n",
        "print(b.shape)\n",
        "print(a+b)\n",
        "print((a+b).shape)"
      ],
      "execution_count": null,
      "outputs": []
    },
    {
      "cell_type": "markdown",
      "metadata": {
        "id": "aqKLvQwdbcCM"
      },
      "source": [
        "## Simple *numpy* exercise\n",
        "\n",
        "\n",
        "I am sure that you were already familiar with all the concepts presented above, but a short recap is always welcomed.\n",
        "\n",
        "\n",
        "Now let's do a very simple exercise with *numpy* arrays.\n",
        "\n",
        "\n",
        "In a (4, 7) *numpy* array we store data about the calorie intake and expenditure of a person throughout the week, as follows:\n",
        "- The rows specify the number of calories from protein sources, the number of calories from fat sources, the number of calories from carbohydrates sources and the calorie expenditure through physical activity, respectively.\n",
        "- The columns specify the day of the week for which the data were recorded.\n",
        "   \n",
        "Compute the following (without using any explicit for loop):\n",
        "- the total number of calories consumed each day;\n",
        "- the percentage of calories from protein sources and the percentage of calories from carbohydrates (as an array with 2 rows and 7 columns), rounded to two decimal places [numpy.around](https://numpy.org/doc/stable/reference/generated/numpy.around.html) );\n",
        "- the day in which the maximum number of calories were burned through physical activity;\n",
        "- the sum of calorie expenditure and calories from protein sources for each working day (the result with be an array with 5 elements);\n",
        "- the number of calories from protein sources, number of calories from fat sources, number of calories from carbohydrate sources and the calorie expenditure for the week as a (1, 4) array.\n"
      ]
    },
    {
      "cell_type": "code",
      "metadata": {
        "id": "hOXanhnZbcCN"
      },
      "source": [
        "import numpy as np\n",
        "days = ['Monday', 'Tuesday', 'Wednesday', 'Thursday', 'Friday', 'Saturday', 'Sunday']\n",
        "statistics = np.array([\n",
        "                      [90, 100, 170, 200, 98, 167, 150], # calories from protein\n",
        "                      [300, 200, 150, 174, 200, 270, 240], # calories from fat\n",
        "                      [340, 255, 400, 500, 301, 200, 300],  # calories from carbs\n",
        "                      [250, 90, 170, 200, 87, 160, 200]]) # calorie expenditure\n",
        "\n",
        "## YOUR CODE HERE\n",
        "total_calories = np.sum(statistics[:-1], axis=0)\n",
        "print(\"a)\", total_calories)\n",
        "print(\"b)\", np.around(statistics[[0, 2], :] / total_calories * 100, decimals=2))\n",
        "print(\"c)\", days[np.argmax(statistics[-1])])\n",
        "print(\"d)\", statistics[0][:-2] + statistics[-1][:-2])\n",
        "print(\"e)\", np.sum(statistics, axis=1)[np.newaxis, :])"
      ],
      "execution_count": null,
      "outputs": []
    },
    {
      "cell_type": "markdown",
      "metadata": {
        "id": "-AUWvYBvbcCQ"
      },
      "source": [
        "**Expected output:**\n",
        "\n",
        "The total number of calories consumed each day:\n",
        "[730 555 720 874 599 637 690]\n",
        "\n",
        "The percentage of calories from protein sources and the percentage of calories from carbohydrates:\n",
        "[[12.33 18.02 23.61 22.88 16.36 26.22 21.74]\n",
        " [46.58 45.95 55.56 57.21 50.25 31.4  43.48]]\n",
        "\n",
        "The day in which the maximum number of calories were burned through physical activity is :\n",
        "Monday\n",
        "\n",
        "The sum of calorie expenditure and calories from protein sources for each working day (the result with be an array with 5 elements):\n",
        "[[340 190 340 400 185]]\n",
        "\n",
        "The number of calories from protein sources, number of calories from fat sources, number of calories from carbohydrate sources and the calorie expenditure for the week:\n",
        "[[ 975]\n",
        " [1534]\n",
        " [2296]\n",
        " [1157]]\n",
        "\n",
        " You can use [assert_equal](https://numpy.org/doc/stable/reference/generated/numpy.testing.assert_equal.html) to check for your result."
      ]
    },
    {
      "cell_type": "markdown",
      "metadata": {
        "id": "-wdtdaa4bcCR"
      },
      "source": [
        "# Plotting\n",
        "\n",
        "During this course we'll frequently create plots to show the distribution of some data, to show the performance of the developed models etc. We'll use the *matplotlib* library for this.\n",
        "\n",
        "Using this library is straightforward, and the function that we'll use the most is plot(). You can check more about this library in the documentation: https://matplotlib.org/3.3.1/contents.html .\n",
        "\n",
        "For example, to display a sine wave we could do the following:"
      ]
    },
    {
      "cell_type": "code",
      "metadata": {
        "id": "eXAMH1P3bcCS"
      },
      "source": [
        "import numpy as np\n",
        "import matplotlib.pyplot as plt\n",
        "\n",
        "# compute the x range\n",
        "x = np.arange(0, 5 * np.pi, 0.1)\n",
        "y = np.sin(x)\n",
        "\n",
        "plt.plot(x, y)\n",
        "\n",
        "# set the title and the name of the x and y axes\n",
        "plt.title('Sine function')\n",
        "plt.ylabel('sine value')\n",
        "\n",
        "# show the figure\n",
        "plt.show()"
      ],
      "execution_count": null,
      "outputs": []
    },
    {
      "cell_type": "markdown",
      "metadata": {
        "id": "_0MsNWt7bcCV"
      },
      "source": [
        "We can plot different data in the same plot using subplot. Below is an example:"
      ]
    },
    {
      "cell_type": "code",
      "metadata": {
        "id": "oPTeVFHjbcCV"
      },
      "source": [
        "# compute the x range\n",
        "x = np.arange(0, 2 * np.pi, 0.1)\n",
        "y_sin = np.sin(x)\n",
        "y_cos = np.cos(x)\n",
        "\n",
        "# subplot with 1 row and 2 columns\n",
        "# the first subplot is the active one\n",
        "plt.subplot(1, 2, 1)\n",
        "\n",
        "# Make the first plot\n",
        "plt.plot(x, y_sin)\n",
        "plt.grid(True)\n",
        "plt.title('Sine')\n",
        "\n",
        "# activate the second plot\n",
        "plt.subplot(1, 2, 2)\n",
        "plt.plot(x, y_cos)\n",
        "plt.title('Cosine')\n",
        "\n",
        "# adjust the spacing between the plots\n",
        "plt.subplots_adjust(wspace=0.5)\n",
        "plt.show()"
      ],
      "execution_count": null,
      "outputs": []
    },
    {
      "cell_type": "markdown",
      "metadata": {
        "id": "C_Z8V69RbcCY"
      },
      "source": [
        "You might be familiar from the Artificial Intelligence class with some of the activation functions used in neural networks: ReLU, tahh, sigmoid and their friends. In the image below you have the common activation functions depicted as dance moves.\n",
        "\n",
        "\n",
        "\n",
        "\n",
        "Pick your favourite three \"dance moves\" and plot them with matplotlib using subplots."
      ]
    },
    {
      "cell_type": "code",
      "metadata": {
        "id": "MtZW0fQ7Y_yD"
      },
      "source": [
        "dance_moves_img = cv2.imread('dance_moves.png')\n",
        "dpi = plt.rcParams['figure.dpi']\n",
        "\n",
        "height, width, depth = dance_moves_img.shape\n",
        "figsize = width / float(dpi), height / float(dpi)\n",
        "plt.figure(figsize=figsize)\n",
        "plt.imshow(dance_moves_img)"
      ],
      "execution_count": null,
      "outputs": []
    },
    {
      "cell_type": "code",
      "metadata": {
        "id": "lhg7pPfcbcCY"
      },
      "source": [
        "## YOUR CODE HERE\n",
        "plt.subplot(1, 3, 1)\n",
        "plt.imshow(dance_moves_img[:height // 3, :width // 4, :])\n",
        "\n",
        "plt.subplot(1, 3, 2)\n",
        "plt.imshow(dance_moves_img[height // 3:2 * height // 3, :width // 4, :])\n",
        "\n",
        "plt.subplot(1, 3, 3)\n",
        "plt.imshow(dance_moves_img[2 * height // 3:, 2 * width // 4:3 * width // 4, :])\n",
        "\n",
        "plt.subplots_adjust(wspace=0.5)\n",
        "plt.show()"
      ],
      "execution_count": null,
      "outputs": []
    },
    {
      "cell_type": "markdown",
      "metadata": {
        "id": "PpQg1ynibcCb"
      },
      "source": [
        "# Image manipulation"
      ]
    },
    {
      "cell_type": "markdown",
      "metadata": {
        "id": "GxbPzEq1bcCb"
      },
      "source": [
        "Computer vision is about images (or image sequences), so you'll definetely need some image manipulation skills.\n",
        "For now, we'll just need some functions to read and write images.\n",
        "\n",
        "We'll use the *opencv* library to work images; opencv is an open-source, cross-platform computer vision library and it support a variety of programming languages (C++, Python, Java).\n",
        "\n",
        "The python version of opencv is very simple and it allows you to express your brilliant ideas in fewer line of codes, while maintaining a hight readability of the code."
      ]
    },
    {
      "cell_type": "markdown",
      "source": [],
      "metadata": {
        "id": "GWh4jULHd1Ux"
      }
    },
    {
      "cell_type": "markdown",
      "metadata": {
        "id": "3oJy3ch4bcCb"
      },
      "source": [
        "### Reading, writing and displaying an image\n",
        "\n",
        "To read an image you'll use the <i>imread</i> function from the opencv library. To display an image you can use the <i>imshow</i> function from the matplolib library .\n",
        "Pretty simple, isn't it?"
      ]
    },
    {
      "cell_type": "code",
      "metadata": {
        "id": "EtIYZb-GbcCc"
      },
      "source": [
        "img = cv2.imread('cute_cat.jpg') # BGR , RGB\n",
        "# BGR -> RGB\n",
        "img = cv2.cvtColor(img, cv2.COLOR_BGR2RGB) # opencv uses BGR channel ordering, while matplotlib uses RGB channel ordering\n",
        "\n",
        "plt.imshow(img)"
      ],
      "execution_count": null,
      "outputs": []
    },
    {
      "cell_type": "markdown",
      "metadata": {
        "id": "JQ9irwp-bcCf"
      },
      "source": [
        "An image is esentially just a numpy array. The type of the elements stored in this array is np.uint8, so each element ranges from 0 (corresponding to the black color in grayscale images) and 255 (corresponding to the white color in grayscale images).\n",
        "\n",
        "To get the size of the image, we can use the <i>size</i> attribute."
      ]
    },
    {
      "cell_type": "code",
      "metadata": {
        "id": "i4D3SPBVbcCf"
      },
      "source": [
        "img_height, img_width, img_channels = img.shape[0], img.shape[1], img.shape[2]\n",
        "print('The image resolution is ', img_width, 'x', img_height)\n",
        "print('The number of channels is ', img_channels)"
      ],
      "execution_count": null,
      "outputs": []
    },
    {
      "cell_type": "markdown",
      "metadata": {
        "id": "kWKRZ93ZbcCh"
      },
      "source": [
        "You can use the function imresize to change the resolution of an image."
      ]
    },
    {
      "cell_type": "code",
      "metadata": {
        "id": "BVA2c1tCbcCi"
      },
      "source": [
        "# resize image to (120, 400) - breaks the aspect ratio\n",
        "img_resize_fixed =  cv2.resize(img, (120, 400))\n",
        "print('The shape of the resize image is:', img_resize_fixed.shape)\n",
        "plt.imshow(img_resize_fixed)"
      ],
      "execution_count": null,
      "outputs": []
    },
    {
      "cell_type": "code",
      "metadata": {
        "id": "8tdzM_NObcCm"
      },
      "source": [
        "# resize the image to w/4 x h/4 (keeps the aspect ratio)\n",
        "img_resize_prop = cv2.resize(img, (0, 0), fx=0.25, fy=0.25)\n",
        "print('The shape of the resize image is:', img_resize_prop.shape)\n",
        "plt.imshow(img_resize_prop)"
      ],
      "execution_count": null,
      "outputs": []
    },
    {
      "cell_type": "markdown",
      "metadata": {
        "id": "1wEdg80ZbcCq"
      },
      "source": [
        "A color image consists of 3 image channels (the red, green and blue channels).\n",
        "\n",
        "A grayscale image has a single channel. One way of converting a color image to grayscale is using the equation:\n",
        "\n",
        "Gray = 0.2126 R + 0.7152 G + 0.0722 B\n",
        "\n",
        ",where R, G and B are the red, green and blue channels of the input image."
      ]
    },
    {
      "cell_type": "code",
      "metadata": {
        "id": "UcNXJjBMbcCr"
      },
      "source": [
        "img_gray = 0.2126*img_resize_prop[:,:,0] + 0.7152*img_resize_prop[:,:,1] + 0.0722*img_resize_prop[:,:,2]\n",
        "img_gray = img_gray.astype(np.uint8)\n",
        "plt.imshow(img_gray, cmap='gray', vmin=0, vmax=255) # use cmap='gray' (colormap) to display a grayscale image"
      ],
      "execution_count": null,
      "outputs": []
    },
    {
      "cell_type": "markdown",
      "metadata": {
        "id": "P7kaQ1-fbcCu"
      },
      "source": [
        "A histogram is graphical representation of the grayscale values (or color tones in the input image). From a histogram we can determine statistical properties of the image, such as the average brightess and the contrast of the image.\n"
      ]
    },
    {
      "cell_type": "code",
      "metadata": {
        "id": "xMsAMHzbbcCv"
      },
      "source": [
        "hist, bins = np.histogram(img_gray, bins=255)# [0-255], 256\n",
        "\n",
        "print('The histogram is:\\n', hist)\n",
        "\n",
        "plt.bar(np.arange(255), hist, color='cornflowerblue')\n",
        "plt.title('histogram of the grayscale image')"
      ],
      "execution_count": null,
      "outputs": []
    },
    {
      "cell_type": "markdown",
      "metadata": {
        "id": "9IXc6nQZbcCx"
      },
      "source": [
        "Plot the histograms of the red, blue and green channel of an image on the same plot. The histogram of the red channel should be displayed in red bars, the histogram of the blue channel should be displayed in blue bars and the histogram of the green channel should be displayed with green bars."
      ]
    },
    {
      "cell_type": "code",
      "metadata": {
        "id": "ogUQ-iwwbcCy"
      },
      "source": [
        "## YOUR CODE HERE\n",
        "values = np.arange(255)\n",
        "channels = ['red', 'green', 'blue']\n",
        "for i in range(3):\n",
        "  hist, _ = np.histogram(img[:, :, i], bins=255)\n",
        "  plt.bar(values, hist, color=channels[i], label=channels[i])\n",
        "plt.legend()\n",
        "plt.show()"
      ],
      "execution_count": null,
      "outputs": []
    },
    {
      "cell_type": "markdown",
      "metadata": {
        "id": "fXjGH-SAbcC0"
      },
      "source": [
        "Add to each element in the grayscale image with a positive number and store the result in img_l1.\n",
        "What do you think is the effect of this operation? Display the image img_l1. Make sure that the result is in the range [0, 255]."
      ]
    },
    {
      "cell_type": "code",
      "metadata": {
        "id": "h-eCbiRxbcC1"
      },
      "source": [
        "# YOUR CODE THERE\n",
        "img_l1 = np.clip(np.array(img_gray, dtype=np.uint16) + 50, 0, 255)\n",
        "plt.imshow(img_l1, cmap='gray')"
      ],
      "execution_count": null,
      "outputs": []
    },
    {
      "cell_type": "markdown",
      "metadata": {
        "id": "7sPkjORybcC4"
      },
      "source": [
        "Compute and display the histogram of img_l1.  What do you notice? How is this histogram different than the previous one?"
      ]
    },
    {
      "cell_type": "code",
      "metadata": {
        "id": "Q8Yz2b-cbcC4"
      },
      "source": [
        "## YOUR CODE HERE\n",
        "hist, _ = np.histogram(img_l1, bins=255)# [0-255], 256\n",
        "\n",
        "plt.bar(np.arange(255), hist, color='cornflowerblue')\n",
        "plt.title('histogram of the l1 image')"
      ],
      "execution_count": null,
      "outputs": []
    },
    {
      "cell_type": "markdown",
      "metadata": {
        "id": "EhqWqzUQbcC6"
      },
      "source": [
        "Now add to the grayscale image a negative number and store the result in img_l2.\n",
        "If the resulting value is less than 0, clamp it to this 0.\n",
        "\n",
        "What do you think is the effect of this operation?"
      ]
    },
    {
      "cell_type": "code",
      "metadata": {
        "id": "HGjEa6c5bcC7"
      },
      "source": [
        "## YOUR CODE HERE\n",
        "img_l2 = np.clip(np.array(img_gray, dtype=np.int16) - 50, 0, 255)\n",
        "plt.imshow(img_l2, cmap='gray')"
      ],
      "execution_count": null,
      "outputs": []
    },
    {
      "cell_type": "markdown",
      "metadata": {
        "id": "LAeCmuX7bcC-"
      },
      "source": [
        "Compute and display the histogram of img_l2. What do you notice? How is this histogram different than the previous ones?"
      ]
    },
    {
      "cell_type": "code",
      "metadata": {
        "id": "qFWVFXbvbcC_"
      },
      "source": [
        "## YOUR CODE HERE\n",
        "hist, _ = np.histogram(img_l2, bins=255)# [0-255], 256\n",
        "\n",
        "plt.bar(np.arange(255), hist, color='cornflowerblue')\n",
        "plt.title('histogram of the l2 image')"
      ],
      "execution_count": null,
      "outputs": []
    },
    {
      "cell_type": "markdown",
      "metadata": {
        "id": "Aqv6fAdhbcDB"
      },
      "source": [
        "Add a positive number (for example 40) to the red channel of the color image and store the result in imgg. If the result of the addition exceeds 255, clamp it to 255.\n",
        "What do you think is the effect of this operation?\n",
        "Display the resulting image imgr."
      ]
    },
    {
      "cell_type": "code",
      "metadata": {
        "id": "zJN-6biAbcDB"
      },
      "source": [
        "## YOUR CODE HERE\n",
        "imgg = img + (40, 0, 0)\n",
        "plt.imshow(imgg)"
      ],
      "execution_count": null,
      "outputs": []
    },
    {
      "cell_type": "markdown",
      "metadata": {
        "id": "19jFqEbdbcDD"
      },
      "source": [
        "Display a region of interest from the input image defined by the rectangle (x=350, y=400, sz=(500x400)).\n",
        "\n",
        "Hint: an image is just a numpy array, so you can easily achieve this with array slicing."
      ]
    },
    {
      "cell_type": "code",
      "metadata": {
        "id": "30Nbirl-bcDE"
      },
      "source": [
        "## YOUR CODE HERE\n",
        "x = 350\n",
        "y = 400\n",
        "sz = (500, 400)\n",
        "plt.imshow(img[x:x + sz[0], y:y + sz[1], :])"
      ],
      "execution_count": null,
      "outputs": []
    },
    {
      "cell_type": "markdown",
      "metadata": {
        "id": "0PgFRHbVbcDG"
      },
      "source": [
        "# Hello convolutional neural networks !\n",
        "\n",
        "In the last part of this introductory laboratory, you'll \"meet\" a convolutional network for object classification. For now, consider it just as a black box that takes an image as input and outputs the 3-top predictions; however this network requires that the input data has the following properties: the size of the input image must be 224x224, the channels of the image should be stored in RGB format, the type of the data (of the numpy array) is float32 and the pixel values are normalized.\n",
        "\n",
        "More specifically:\n",
        "- resize the image by preserving the aspect ratio, such that its smallest dimension has 232 pixels;\n",
        "- perform a central crop of the image of crop size equal to 224;\n",
        "- rescale the pixels in the image to the interval [0.0, 1.0];\n",
        "- normalize the pixel values using mean=[0.485, 0.456, 0.406] and std=[0.229, 0.224, 0.225] (subtract mean and then divide by the standard deviation).\n",
        "- prior to feeding the image to model.predict() should be added such that the shape of the image is (1, 3, 224, 224) (channels first)\n",
        "\n",
        "Your task is to pre-process the input images such that they are in the format requested by the network."
      ]
    },
    {
      "cell_type": "code",
      "metadata": {
        "id": "6-BgMwebbcDH"
      },
      "source": [
        "import torch\n",
        "from torchvision.models import resnet50, ResNet50_Weights\n",
        "\n",
        "weights = ResNet50_Weights.DEFAULT\n",
        "model = resnet50(weights=weights).float()"
      ],
      "execution_count": null,
      "outputs": []
    },
    {
      "cell_type": "code",
      "metadata": {
        "id": "84rD74vrgwnV"
      },
      "source": [
        "!wget \"https://docs.google.com/uc?export=download&id=1X9au_JCNv4fg2Wgsr4DFT-N0OZht6Zmp\" -O elephant.jpg"
      ],
      "execution_count": null,
      "outputs": []
    },
    {
      "cell_type": "code",
      "metadata": {
        "id": "FYE8HL-WbcDJ"
      },
      "source": [
        "img_path = './elephant.jpg'\n",
        "\n",
        "## TODO YOUR CODE HERE\n",
        "img_raw = cv2.imread(img_path)\n",
        "img_rgb = cv2.cvtColor(img_raw, cv2.COLOR_BGR2RGB)\n",
        "\n",
        "min_size = min(img_rgb.shape[0], img_rgb.shape[1])\n",
        "resized_size = 232\n",
        "ratio = resized_size / min_size\n",
        "img_resized = cv2.resize(img_rgb, (int(ratio * img_rgb.shape[0]), int(ratio * img_rgb.shape[1])))\n",
        "\n",
        "height, width, _ = img_resized.shape\n",
        "cropped_size = 224\n",
        "img_cropped = img_resized[\n",
        "  (height - cropped_size) // 2:(height + cropped_size) // 2,\n",
        "  (width - cropped_size) // 2:(width + cropped_size) // 2,\n",
        "  :,\n",
        "]\n",
        "img_scaled = img_cropped / 255\n",
        "\n",
        "mean = [0.485, 0.456, 0.406]\n",
        "std = [0.229, 0.224, 0.225]\n",
        "img_norm = (img_scaled - mean) / std\n",
        "img_c1 = np.transpose(img_norm, (2, 0, 1))[np.newaxis, :]\n",
        "img = torch.from_numpy(img_c1).float()\n",
        "## END TODO YOUR CODE HERE\n",
        "\n",
        "prediction = model(img).squeeze(0).softmax(0)\n",
        "\n",
        "class_id = prediction.argmax().item()\n",
        "score = prediction[class_id].item()\n",
        "category_name = weights.meta[\"categories\"][class_id]\n",
        "print(f\"The predicted class is {category_name} with score {100 * score:.2f}%\")\n",
        "\n",
        "\n",
        "# get the top k(=3) predictions\n",
        "k = 3\n",
        "with torch.no_grad():\n",
        "  predictions_np = prediction.numpy()\n",
        "\n",
        "  topk = np.argpartition(predictions_np, -k)[-k:]\n",
        "\n",
        "  topk_categories = [weights.meta[\"categories\"][class_id].lower() for class_id in topk]\n",
        "  topk_scores = [predictions_np[idx]*100 for idx in topk]\n",
        "  plt.barh(topk_categories, topk_scores)\n",
        "  plt.show()"
      ],
      "execution_count": null,
      "outputs": []
    },
    {
      "cell_type": "markdown",
      "metadata": {
        "id": "dzr-cm4dbcDL"
      },
      "source": [
        "Apply different effects (crop it, lower the contrast, change the brightness) on the training image and see if you can \"fool\" the network.\n",
        "\n",
        "Also, upload other images from your computer and see what the network predicts"
      ]
    },
    {
      "cell_type": "code",
      "metadata": {
        "id": "Bw1NSd_wbcDL"
      },
      "source": [
        "## TODO your experiments here\n",
        "img_cpy = np.copy(img_c1)\n",
        "height = img_cpy.shape[3]\n",
        "img_cpy[:, :, :height // 2, :], img_cpy[:, :, height // 2:, :] = img_c1[:, :, height // 2:, :], img_c1[:, :, :height // 2, :]\n",
        "plt.subplot(2, 1, 1)\n",
        "plt.imshow(np.transpose(img_cpy[0], (1, 2, 0)))\n",
        "\n",
        "img = torch.from_numpy(img_cpy).float()\n",
        "## END TODO YOUR CODE HERE\n",
        "\n",
        "prediction = model(img).squeeze(0).softmax(0)\n",
        "\n",
        "class_id = prediction.argmax().item()\n",
        "score = prediction[class_id].item()\n",
        "category_name = weights.meta[\"categories\"][class_id]\n",
        "print(f\"The predicted class is {category_name} with score {100 * score:.2f}%\")\n",
        "\n",
        "\n",
        "plt.subplot(2, 1, 2)\n",
        "\n",
        "# get the top k(=3) predictions\n",
        "k = 3\n",
        "with torch.no_grad():\n",
        "  predictions_np = prediction.numpy()\n",
        "\n",
        "  topk = np.argpartition(predictions_np, -k)[-k:]\n",
        "\n",
        "  topk_categories = [weights.meta[\"categories\"][class_id].lower() for class_id in topk]\n",
        "  topk_scores = [predictions_np[idx]*100 for idx in topk]\n",
        "  plt.barh(topk_categories, topk_scores)\n",
        "  plt.show()"
      ],
      "execution_count": null,
      "outputs": []
    },
    {
      "cell_type": "markdown",
      "metadata": {
        "id": "nXuUsv-jbcDP"
      },
      "source": [
        "Congratulations for reaching this point! This is the end of first laboratory.\n",
        "Next time we'll build (from scratch) a simple linear classifier to recognize different objects from images."
      ]
    }
  ]
}