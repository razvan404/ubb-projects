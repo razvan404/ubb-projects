{
 "cells": [
  {
   "cell_type": "markdown",
   "source": [
    "## <strong>Prepocesarea setului de date pentru Algoritmul 1</strong>\n",
    "\n",
    "Setul de date folosit este <a href=\"https://www.kaggle.com/datasets/kazanova/sentiment140\">sentiment140</a>. Acesta conține 1.6 milioane de intrări, dintre acestea am păstrat doar pe cele ale căror utilizatori au fost destul de activi.\n",
    "\n",
    "#### Reducerea setului de date la 200.000 de intrări pentru a alege câțiva utilizatori activi"
   ],
   "metadata": {
    "collapsed": false
   }
  },
  {
   "cell_type": "code",
   "execution_count": 5,
   "metadata": {
    "collapsed": true,
    "ExecuteTime": {
     "end_time": "2023-05-30T08:34:28.761488800Z",
     "start_time": "2023-05-30T08:34:25.885968800Z"
    }
   },
   "outputs": [],
   "source": [
    "import random\n",
    "\n",
    "DATA_LIMIT = 200000\n",
    "\n",
    "with open('data/tweets.csv') as f:\n",
    "    lines = f.readlines()\n",
    "    header = lines[0]\n",
    "    new_file = lines[1:DATA_LIMIT // 2] + lines[-DATA_LIMIT // 2:]\n",
    "    random.shuffle(new_file)\n",
    "    new_file = [header] + new_file\n",
    "with open('data/tweets_200k.csv', 'w') as f:\n",
    "    f.writelines(new_file)"
   ]
  },
  {
   "cell_type": "markdown",
   "source": [
    "#### Citirea datelor din noul set de date"
   ],
   "metadata": {
    "collapsed": false
   }
  },
  {
   "cell_type": "code",
   "execution_count": 8,
   "outputs": [],
   "source": [
    "import pandas as pd\n",
    "\n",
    "\n",
    "data = pd.read_csv('data/tweets_200k.csv', encoding='latin-1')\n",
    "data = data[['user', 'text', 'date', 'target']]\n",
    "data = data.dropna()\n",
    "data = data.drop_duplicates()"
   ],
   "metadata": {
    "collapsed": false,
    "ExecuteTime": {
     "end_time": "2023-05-30T08:37:59.483259100Z",
     "start_time": "2023-05-30T08:37:57.529433500Z"
    }
   }
  },
  {
   "cell_type": "markdown",
   "source": [
    "#### Alegerea utilizatorilor cei mai activi din această porțiune din setul de date"
   ],
   "metadata": {
    "collapsed": false
   }
  },
  {
   "cell_type": "code",
   "execution_count": 29,
   "outputs": [
    {
     "name": "stdout",
     "output_type": "stream",
     "text": [
      "['karla_martin76', 'veryluckylady88', 'Emmkat', 'Cladia', 'mlexiehayden', 'Olijah_Angel', 'kelownagurl', 'MiszB', 'Eric_Chambers', 'Knot2serious', 'syuazimi', 'aibaninosuki', 'myfizzypop', 'inkgypsy', 'Pawel_Sarkowicz', 'rohinkallat', 'nikipaniki', 'CT415', 'ch0colatechip', 'JMarie823', 'nieshaaa', 'xvikki', 'NKOTBFlamesFan', 'Davina_Morris', 'Glossophobia', 'Leishkin', 'cheery_sunshine', 'philhart', '_LLcoolV_', 'xxJadeyyxx', 'beckymcflyy', 'mangoiolas', 'beingmyself', 'Alska', 'mhisham', 'AudreyDOTCOM', 'lydkwan', 'JeanneXay', 'PeanutGregory', '4evaDhaMissez', 'farewellnat', 'simsgalore', 'tinymel96', 'vprincessfan01', 'WollemiPine', 'danadearmond', 'Spite1977', 'BigDumbMale', 'Th3PinkRabbit', 'collectiblestv', 'jason_2008', 'dougggie', 'yewww', 'LovesBrooklyn2', 'The_GreenWizard', 'wildcat24', 'whoisB', 'pageoneresults', 'ctham', 'VIVA_LA_SUE_SUE', 'anakusz', 'tinymicroserf', 'teenymunchkins', 'nuurajeerah', 'yamstersg', 'counternotions', 'catbook', 'h2o_x', 'bluefur', 'darraghdoyle', 'HildeM_EN', 'captainjack63', 'manolosavi', 'ohsnapattack', 'azsunshinegirl7', 'Luv_ChelseaFC', 'wondrous_as_u', 'steframos', 'christinelu', 'jianxiong', 'liambaldwin', 'Jolene07', 'TheBeautyChick3', 'LindenChadwick', 'Graftacus', 'savagestar', 'marisavasan', 'CaityPineapple', 'BengeeB', 'laurahollywood', 'maeravidaz', 'whiskeyrose7', 'keza34', 'insearchofnkotb', 'elliejanexo', 'munchkin142', 'iChelz', 'slius', 'Aussie_MateLC', 'starjamgirl', 'TelishaMarie', 'marcusjroberts', 'anima', 'gourmeted', 'peachchild', 'DaveCharest', 'madilovesmerder', 'Jamjar84', 'Lali_pinky', 'leishae', 'melz0812', 'TimMothE', 'abtony', 'DanyelleTauryce', 'cel_xox', 'jorale84', 'ggimmickgirl', 'jemjem1983', 'kat_ap', 'keithdriscoll', 'maeeyah', 'Lyricist_Juice', 'RythmIQ', 'siddharth_ind', 'sarah_pc', 'FloppyNono', 'ishanney', 'tiffunnyfranco', 'xThislove', 'loveofcardigans', 'Frassington', 'tan1337', 'RandallSan', 'flapjacks9702', 'CraigVenables', 'CallMe_Goddess', 'fllygirl242', 'tynnn', 'DsBabyGirl', 'BonesCrazy24', 'tractorqueen', 'LaylaNatalie', 'WhyIsMyNameDave', 'fartingpen', 'madysondesigns', 'elematt', 'Nathaniel_3', 'stalkerh', 'SarahLovesMcTom', 'ponor', 'mattmagic', 'TamiFromMiami', 'athinkingman', 'mrs_radioviolet', 'fadedmoon', 'EmilyNatanya', 'anambanana', 'swiftkaratechop', 'afanofmusic', 'mel95', 'dokus', 'kaekonakagawa', 'Rikki_ND', 'aesthetik_dekay', 'sexidance', 'ErictheAzn', 'iamkhayyam', 'TamyT_xx', 'shelleybakes', 'intanzie', 'sylan0', 'beneubanks', 'torriRAWR', 'Sunshiiine', 'CeLine_XD', 'ether_radio', 'PegasusAngel', 'davidbarrett1', 'fletcherxx', 'yiiee', 'paper_hand', 'Snowshadow', 'super_spock', 'froggie775', 'minteva', 'calamur', 'FayLeMarquand', 'CourtneySit', 'MandinaM', 'Yushimi', 'kellypxox', 'PANICitsLeslie', 'lukeii', 'bekkynixon', 'sangfroid', 'DanaDazed', 'PEETEE1980', 'Cubikmusik', 'annyo84', 'Lannaa', 'itslauraduggan', 'matt_hero', 'Shinybiscuit', 'hellohelis', 'twibirdy', 'punslingerr', 'Mohith', 'paykan', 'HARAJUKU_MODEL', 'xo_amanda_xo', 'singswell', 'teachernz', 'pd1001', 'showdownthedog', 'ImSoChantal', 'jadledee', 'far1983', 'joycescapade', 'Streyeder', 'rockphotogirl', 'kewlet', 'starleigh2000', 'caricariboberri', 'jun6lee', 'oxEmalieexo', 'rebeccamezzino', 'mohdrafie', 'makikaysantos', 'hollowlegs', 'squidwardthe2nd', 'markAchambers', 'BearNoiz', 'aceworld', 'createabadge', '30STM_Denalie', 'danjordan', 'mpasp', 'countrymusiclvr', 'essteeyou', 'MysticMiggins', 'chocolate_dip', 'vesula', 'laperugina', 'xXClanDestinyXx', 'yep1guy', 'richardBarley', 'deathangel3030', 'katfrances', 'Angelli13', 'purplefangs', 'Seamonkey86', 'MissBridge', 'iKieran', 'hillarylovesatl', 'FlammableGoose', 'sweisbrot', 'robertholiday', 'hnprashanth', 'DanielleMaguire', 'voidstuff', 'raymondpirouz', 'wonder_nat', 'xLakeEffectKid', 'imcute519', 'jenbishopsydney', 'zelciia', 'Scotty089', 'MaternalSpark', 'erin_marcella', 'KellyShibari', 'OkamiMars', 'joshuaseo', 'vipvirtualsols', 'rubyybabyy', 'paulazinha', 'easmart', 'xbllygbsnii', 'ananyah', 'pink_lolly', 'torierskine', 'krzimmer', 'discomaniac', 'hanaames', 'Ahsphyx', 'fishgoat', 'Benjamin42', 'iamashlee', 'AndyCarolan', 'DWsRoseC', 'TrinaWright', 'PatiMc', 'Mos_sy', 'anteaisaplus', 'estrella_bby', 'iwantyourjeep', 'startonomics', 'omgitsnoelle', 'GloriaMFisher', 'EllenRichter', 'giftsandvoucher', 'imnickyip', 'thenewbnb', 'Gypseewoman', 'photo_journ', 'rhea_ann', 'theladyisugly', 'BleuVert', 'FranAspiemom', 'taralovesu', 'Butterflyshoes', 'bexmith', 'skinnylatte', 'Angelbstar', 'BrianConn', 'Bongchi', 'elfinamsterdam', 'Goldae', 'LoLornaMarie', 'cherishZQ', 'Dot12b', 'StackedGroup', 'spiderogumi_', 'h4nn4hhh', 'AngelaGillham', 'SimplyGaby', 'jill2385s', 'CMoz', 'rubenerd', 'DeadmanDRB', 'iRockaBerry', 'Meliciousx3', 'shontelsherrea', 'dhersam', 'luckycharms28', 'FrancesVista', 'aerobic247', 'KirstyWrites', 'emily31193', 'davideggleton', 'KaylieFinneran', 'djsirvere', 'zapamna', 'somemandy', 'NWEssexgirl', 'bex1210', 'Simply_Positive', 'zanidia', 'chrissymarie86', 'mallycakes', 'Jessi_lopez', 'phillipquin', 'ABeautifulMind1', 'ALEXTownsend6', 'stikr', 'Mum_of_Six', 'bellaclara', 'vickie_allport', 'hollyefronjonas', 'forbairt', 'DJ_Joelted', '5toSucceed', 'liyutamiru', 'strangetimes87', 'Lil_Miss_Dangaa', 'paluawahine', 'rockinchick1985', 'woahitssarah', 'Baskers', 'pinaymommy', 'schachin', 'redcomet81', 'lilj_j15_SODMG', 'moonlitdance', '_SarahF_', 'tinnywonks', 'emilin93', 'nibby01', 'Monica2112', 'PaulHarriott', 'EvilTh1rt3en', 'CoreJas43', 'DebbieJay', 'surenemurene', 'johnhood', 'babysitter187', 'nadiaparry', 'ksutt11', 'sunshinebliss', 'zeeeilm', 'tonirebekah', 'AlexPerkasa', 'Stephen_Marquez', 'IndpndntMogul', 'Froosh', 'keoghho', 'Amailie', 'mdzulkar9', 'MethodDan', 'hannahfaulkes', 'Mirriaam', 'AmyGrindhouse', 'paolotarray', 'Berechitax', 'SinaAmedson', 'hillkath', 'georgia_xoxo', 'alicebauman', 'shaunarawrr_x', 'rebekahnew', 'MonicaAyesha', 'KimmiMcfly', 'danalar', 'breatheitin', 'Mrs_NickJ07', 'hsmandy', 'BillMc7', 'ThiagoAcquaviva', 'jessicatsang', 'NYBabe', 'RegineFilange', 'JeJa6', 'saravananp', 'msblasianp', 'bigbe69', 'DeAndreWright', 'Fiona_Poppins', 'Stu_D0gg', 'SeviDesigns', 'aflow', 'so_zwitschert', 'MissXu', 'markable', 'TWUC_Tara', 'mcflyfanatic89', 'AlwaysMiley', 'JanaBanana5', 'sintaxasn', 'cardoperez', 'Cheliki', 'unahealyfan', 'fcandle', 'ryantherobot', 'karmadillo', 'Rubyam', 'hannnnnnnah', 'foamcow', 'hairycornflakes', 'Schattenwolf', 'jbinx', 'jnodding', 'MiaLee30', 'smacula', 'RosieAldam', 'misscecelia', 'StormClaudi', 'Patriciasophia', 'fuelthefighter', 'aka55', 'dhiyyay', 'liedra', 'buffyc', 'bengillam', 'rodrigdb', 'adriwadri', 'Sirjolt', 'aLeKnight', 'libertyluver', 'harisn', 'AlyxxDione', 'McflyGal', 'seth_sullivan', 'garymeyerza', 'kimberley_', 'trancemade', 'TaraRahimi', 'linnetwoods', 'idrake76', 'tiarafranks', 'Foxyma2k9', 'Amillion2one', 'Converse_Ellen', 'laowai', 'FayeSwinney', 'psychodwarf', 'gabysslave', 'McFlyMcFans', 'JOJO1124', 'typezero3', 'SheenaNastaja', 'rom', 'Astrogirl426', 'Haarlz', 'eddietang68', 'Sarah_Davey', 'aeoth', 'laaurenxxx', 'LadyParadis', 'rockstarchick', 'veropperez', 'LolliLicker', 'Alicia_vintage', 'Kazcita', 'SweetZeta6', 'tynie626', 'cupcakesfortwo', 'tiggerloos', 'MakeupLoveer', 'heatherkoyuk', 'wolfchild59', 'xcheckminus', 'nut_cookie', 'djsnaxx', 'supernaturalamy', 'honk4peace', 'hayles', 'dajbelshaw', 'mchelleyy', 'SmileyRose', 'RocketQueenJenn', 'michxxblc', 'DaisyFab', 'Larissa_SG', 'what_tha', 'lovelylily_1', 'buffalopine', 'ShesElectric_', 'sweettea86', 'frozenblueeyes', 'Marchena830', 'roannedizon', 'goldfries', 'fjfonseca', 'BrookeAmanda', 'jesscocaine', 'SingleSyllable', 'KatyHarwood01', 'J0SMILES', 'GlasgowGooner', 'candiedcharcoal', 'jsizzl', 'BeaMarqz', 'snipeyhead', 'centerofright', 'littlemunchkin', 'rickoshea', 'twliciousness', 'garethslee', 'bennymareich', 'laurakim123', 'JakiCullen', 'LauraOHH2315', 'belbels', 'suddentwilight', 'kridrules', 'SusanCosmos', 'MissPassion', 'redchinese19', 'twista202', 'glossmenagerie', 'redlimousine', 'ExtraDeep', 'ResPres', 'karmified', 'Axleuk', 'LauraRepetti', 'HappyDrew', 'NotQuiteNigella', 'martinpolley', 'sweeetnspicy', 'gilltaylorphoto', 'jezza_rokchik', 'FreshPlastic', 'sdmix', 'Scamtypes', 'megan_mcfly', 'silly_kookie', 'WeeStuff_xo', 'brypie', 'darenBBC', 'carrie1337', 'MiMizGurl', 'chynagyrl1980', 'Gay_Burns', 'activistchica', 'AlexHigh', 'Ayla_F', 'HayleyBee1', 'Teeg', 'MisfitGemma', 'smellyocheese', 'MrsMcFlyGrimmy', 'Rikou26', 'jarrelt', 'zophar53', 'elleLOVESgreys', 'PumaSwede', 'chinatheblack', 'pc_williams', 'MelissaMartin_', 'veilin', 'PercythePigeon', 'paisleymelody', 'SweetTartelette', 'lameBIRDIE', 'Krystle_Hill', 'ScottSCarver', 'Jamash', 'ali_gator13', 'kreativlink', 'andycrash', 'BeantownCutie', 'xDevikax', 'zOuz_jb', 'xoxmillyxox', 'Abbie12', 'milliemagsaysay', 'Arantza92', 'sidepodcastchat', 'lina_luka', 'mizzlizwhizz', 'vintagetrash', 'alli_jonas', 'lizzy1e', 'diiilxia', 'Shawna311', 'chavie101', 'heynatasha', 'carousella', 'katyb_', 'MISSMARY77', 'winniedepoohi', 'FootyGirl88', 'txcranberry', 'elisabeth_L6', 'erinmcfly', 'KComer', 'bronte_saurus', 'happylovesChuck', 'giclee', 'VIBEAUTY', 'lleeann', 'Stacina', 'hello_jodie', 'kimtagg', 'GregBoser', 'mnrmg', 'voguechic', 'gaztag', 'freshypanda', 'Siouxsinner', 'katiecamie', 'TyPie', 'lindadominique', 'serah_jean', 'hgreilly', 'emmaarrr', 'silentinfinite', 'danubiaprado', 'chrysalisceo', 'Spiers94', 'joshtastic1', 'cheezee1098', 'sarahstanley', 'rociocartes', 'newO_nyboR', 'MzDivaNicki', 'HudsonKent', 'gsnail', 'LiluYvett', 'princesstimetoy', 'oumiec', 'loveli', 'AgingBackwards', 'amigastu', 'axlrosed', 'Bizarre57', 'missbrandii', '_AislinnTighee', 'nandeb', 'Monicutza03449', 'koolpersonrockz', 'Goin__baby', 'twisted4ddub', 'cravenjade', 'BeebeONE', 'Maximilus', 'nyc_specialist', 'toodamnninja', 'saragarth', 'berakikiraquela', 'nicolalalalala', 'JoReynolds55', 'Jeryke', 'MiaLotta', 'madsdeguzman', 'miss_r', 'Chad_Lad', 'Xx_McFLY_xX', 'siana_mia', 'NDUBZFAN4EVA', 'jpadamson', 'arielRIOTT', 'Jae878', 'LoraUnicorn', 'tarrywild', 'TheDailyBlonde', 'Schnik', 'tannwick', 'Catmoo', 'Mig177', 'cherylelapitan', 'RockstarAtHeart', 'nathanrdotca', 'lindsayevans', 'iellie', 'muffin_loser', 'aliceokoye', 'archfanatic13', 'mm39', 'Fifi1976', 'jeffcthomefan', 'Dan_Schwartz', 'vanilla_gitta', 'jillybean65', 'brookedanielle_', 'southportlush', 'CaptainFlashman', 'BNJMN32', 'DonMcAllister', 'SarcasticFairy', 'CristalleLove', 'kjerstia', 'Tiny_Winchester', 'SicknastyKaryn', 'ohangie', 'mynameislouie', 'TeamUKskyvixen', 'fraseyboy', 'sejlaaa', '_Greyson_Rose_', 'xxsabina', 'DivaWonderGirl', 'scorpiolady1', 'pantherapardus', 'demirkapi', 'Chucky666', 'sofisticat', 'pa3cia', 'fiercemichi', 'ABabyBlueEyes', 'Nieves_Herrero', 'failingwords', 'Tittch', 'the_anke', 'Ice_Ziggee', 'AlishaLoves', 'samppa89', 'rdy2freefall', 'erizalovato', 'Cletae', 'snobscrilla', 'comeonecomeall', 'shaaqT', 'EmAllTimeLow', 'jonathantay', 'paulpuddifoot', 'HeyCameron', 'AgonTheRican', 'franhr', 'DowneyChick', 'Katie1989', 'WnchstrsGirl', '_Edith_', 'dooscoobrella', 'FOOFOOx33', 'DiyanaRazinah', 'mtrh', 'josephbrady', 'picalili', 'chrisgarrett', 'paigebradford', 'PennDragonArt', 'WordofSouth', 'potatox3', 'jesslina', 'AaliyahLove69', 'hanna_C', 'banditTA00', 'laura_dolcepics', 'rachellock22', 'stephherzz', 'wanderblah', 'WickedGirls', 'fridley', 'Danni41', 'BabeNatasha', 'rachelinajolie', 'loubeejones', 'HazalSelena', 'themonkeyboy', 'vickyrao', 'Kyle270', 'primaveron', 'jemappellekim', 'Abby_ox', 'eboogiee', 'Quimo', 'CMCx', 'Farrahri', 'Mich80sbaby', 'thisgoodlife', 'ShannonMorgan', 'its_me_betty', 'crazy_moon', 'MGMarts', 'patjones_coach', 'WalkingDrum', 'nzdeany', 'WahooPooh', 'jadecraven', 'Hyper8', 'mrhankmanthe3rd', 'GHmltn', 'shadez', 'socilover', 'JONASlOVExO', 'injenious', 'gcrush', 'NovaWildstar', 'Mikey_894', 'ummm_Stacy', 'delphilicious', 'nabejero', 'twinkleboi', 'ofallpieces', 'dianedenmark', 'monashoj', 'helen_bop', 'thebrandbuilder', 'RosalieCullen', 'jenwagner', 'natasharamsey', 'siyaadah', 'ficklampa', 'DestinyTrack42', 'luscious_loulou', 'Ste1987', 'emotionalpedant', 'siriuslyheather', 'Ben_Hall', 'AshyJonas', 'sarahnewton', 'SazFOB', 'Freakonomy', 'elisabeth_L4', 'craftymaddie', 'holidaycarclub', 'ruoivietnam', 'Erardo', 'rosie_rage', 'Melamachinko', 'elisabeth_L1', 'mattbeetar', 'Pitxi', 'irenezhang', 'scotdoc', 'AlexLJ', 'ilove_shoes', 'ljmadd', 'onlydanno', 'twilight_freakk', 'gratsi02', 'abbiealmasco', 'heykyeh', 'migaruler', 'TranceAddix', 'Cupcake1012', 'jsuplido', 'kenistyles', 'gazebow', 'm0po', 'LitoxYing', 'hilaryjp', 'carrotmadman6', 'heyimcourtney', 'TeeFly', 'bogwhoppit', 'Makenzesgranna', 'chaarmaainee', 'yenno', 'MattReeves17', 'hailey_letang', 'divasoria', 'Pinktinktash', 'amy__xx', 'itsyagirlbrit', 'lupestripe', 'UrbanxoJONAS', 'andrea_r', 'kayels', 'Nimilia1621', 'SafarE', 'kellynnchan', 'Hanishi', 'verresnoirs', 'x_BrokenxHope_x', 'caeonfire', 'lizamtl', 'Kellalicious', 'GetMeVideo', 'loveivy', 'elanaskye', 'kristafromsyd', 'shannatrenholm', 'Art_Advisor', 'whitsundays', 'lovesgreyboy', 'ItsMandyYo', 'voidspace', 'blue_cupcakes', 'docbaty', 'exocetau', 'snxy', 'girlpiper', 'merturk', 'xVivicax', 'kenny_wordsmith', 'jennsbookshelf', 'm4s', 'SimpleMia', 'mags_place', 'bobbiealice', 'spproductions', 'LLinnda', 'hannah106', 'Emm_Jay', 'remzology', 'MusicianGirl', 'ashumittal', 'krist0ph3r', 'heartbomb', 'Taelahf', 'SarahRobinson', 'xxnileyloverxx', 'stinginthetail', 'Marquise21', 'allyheartsBB', 'geekachu', 'TidyCat', 'spwc', 'KadijaKamara', 'caseysevenfold', 'ivileeispissed', 'aidenmckenna', 'janineshepherd', 'teejay0109', 'mjpterodactyls', 'SoleneD', 'AlyssaRihanna', 'lewisking', 'clevertitania', 'raihanamcfly', 'JaclynnAshley', 'lemongeneration', 'ravenatic', 'realtormarney', 'yayjen', 'natneagle', 'kelvinringold', 'tabbicat', 'musicalmover', 'staceymeow', 'kateblogs', 'jswo', 'ThiaHeartsNick', 'clarexsaula', 'emilylouisemei', 'dharshana', 'missdestructo', 'lucyntn', 'HeatherShea', 'nisaho', 'FuchsiaStiletto', 'BabyVanessa093', 'Doc_Remy', 'dhempe', 'musiclove18', 'burstingenergy', 'laura_eyedea', 'SarahSaner', 'kat_n', 'ashleno', 'Muzzzza', 'velmadaria', 'maryxalicexhale', 'ChloeStack', 'ashleymiranda1', 'xhelloxgoodbyex', 'aleskywalker', 'Wyldceltic1', 'iwishiwas', 'louiealdip', 'evAllTimeLow', 'pokerfacexxx', 'scorpfromhell', 'LisaLavie', 'heyisabelle_', 'filmnoirgirl', 'Maykats', 'krystynchong', 'ainimountei', 'Rkoluvsdiana', 'HayleyyFitch', 'faiznurdavid', 'AmanduhhNicolee', 'stargirl1013', 'davesusetty', 'mopars0', 'AmyPredsfan', 'AvonteNikole', 'brokerkathy', 'anthonylewry', 'DrewDrew2009', 'ArsenalSarah', 'garry1bowie', 'THETRUTH117', '_Chelsea_Marie', 'photokitty', 'kelanjo19', 'krystinascott', 'ryanmartin_', 'SongoftheOss', 'albeitludicrous', 'NKArmyTNgirl', 'Djlittleman', 'jenna119', 'emmanuellaiero', 'VickyArdon', 'gemeg', 'leglesslush', 'painyboi', 'Gift_tours', 'triner', 'pato_30stm', 'surewhynot', 'ArieleMoonfire', 'James_yeah', 'catiams', 'coZZ', 'milliontwits', 'JaydDragyn', 'xxxmybullet', 'Mommykins41', 'tom125', 'TheFamulus', 'ideamonk', 'NancyDee_Online', 'rubymaree', 'brookehaskins', 'minxkitty', 'Joseph1391', 'rob_caporetto', 'mrshananto', 'JonsGermanGirl', 'KtotheCdawg', 'InTheCityLife', 'SexyKellyC', 'MaguiB', 'x0me880x', 'jesssicababesss', 'curious1966', 'CLAiireex', 'ChuckSmith', 'videosawyer', 'ElementsOfJazz', 'KaraSaysSo', 'randomblonde', 'BrunetteExotica', 'Jenniewrenbird', 'rosieeejones', 'f2point4', 'ahmednaguib', 'bondibeachgirl', 'nellchy', 'MissDibbs', 'NiksieThePixie', 'ScottRhodie', 'chaosbot', 'skrobertson', 'TheChrisD', 'zenjar', 'x_Mazzle_x', 'SLotH13', 'LittleBitTwistd', 'tomokahana', 'becca_shoe', 'petehopkins', 'ABZQuine', 'iCarluccio', 'TheNewBradie', 'NJGurlMelissa73', 'elisabeth_L7', 'maddyks', 'JennytG13', 'kaylaSTACK', 'pokupine', 'xEviLovesMcFLYx', 'Lyn_Pips', 'mcflyapril', 'babydoodle_22', 'MelFresh27', 'Jamie_127', 'jedi58', 'ivyclark', 'GinaLaGuardia', 'themaguire', 'karinb_za', 'thep', 'Demetria123s', 'SexyBeach', 'MeghanMagnolia', 'MsJerzi', 'uhoh_lindsey', 'xneqrita', 'podgypanda', 'iLadySyncere', 'amykate', 'Vengeance_6661', 'JCTurner', 'Natalie_1990', 'KiwiBeck', 'InTheLittleWood', 'saaam_', 'Jennybeeean', 'nikkiwoods', 'Roses_Are_Red', 'ilovetwilightxo', 'JILLIANVALENTIN', 'LydiaStack', 'hairlessheart', 'hazelgreenluv', 'kaylee110', 'tsuvik', 'Allyeska', 'whatswhat_sian', 'kateyy__', 'Lea_Lush', 'YvetteObeney', 'thisgoeshere', 'sociaIIyawkward', 'MCRmuffin', 'stephr22', 'christinawrites', 'velofille', 'marianaguidifly', 'LiverpoolFan74', 'iCONtips', 'LilithHecate', 'paul_steele', 'thebeadgirl', 'ShanMichele', 'Smophs', 'LaughNYC', 'marginatasnaily', 'Karoli', '2emc', 'zrecsmom', 'velvetella', 'xxYOitsALEXxx', 'nany_micucci', 'ronnyvengeance', 'tmofee', 'dannybrown', 'grum', 'minorityx', 'anefallarme', 'edaulton', 'Lesley_M', 'Kdubbb', 'DonniesGirl69', 'buddalunch', 'hotvogue', 'koast08', 'courtneyyy3', 'YarielaNolasco', 'JohnWeston', 'pcp071098', 'Minerveca', 'A_Elizabethhh', 'Rachael90210', 'elisabeth_L2', 'gi_gi_bee', 'laname', 'KellyG5', 'primatage', 'wendywings', 'Pale_Jewel', 'koltregaskes', 'ThatAprilGirl', 'lionl', 'Garythetwit', 'katlilytwit', 'uhohcaitie', 'pawsthejaws', 'Lucky_you33', 'mkenzzi', 'Jebatron', 'jaybranch', 'urbanfly', 'majastevanovich', 'sunny525', 'XMissxXxMurderX', 'marodi', 'shawnlimtianjun', 'MarcyChen', 'Nidiamazing', 'vavroom', 'Roxie22', 'purplelyna', 'erickajonasbby', 'BrandySanDiego', 'feblub', 'nonsequitir', 'DanielJUK', 'hummingbird604', 'vanity_kills', 'Zappos_Service', 'd33pak', 'Dylondo', 'Soultwin', 'xkhaotik', '_xotashhh', 'ggw_bach', 'MeganAlqueza', 'LessaT', 'jeannicole', 'Chaaarliiieee', 'cyphersushi', 'JordanC9122', 'pseud0random', 'TwiCapucine', 'LstInTheSeeThru', 'ameym21', 'SandiMon', 'stevegarufi', 'acidicice', 'fueledbyamy', 'GGGKeri', 'Tastelikecrazy', 'theriz28', 'jobadge', 'livelovemodel15', 'veddersgirl', 'Bizcuits', 'jordanataylor', 'DemiLSupporter', 'jenjeahaly', 'dopeydoo', 'CynthiaBuroughs', 'Jecsa', 'kudcia', 'RabbiShaiSpecht', 'CandiceKei', 'MissLaura317', 'druey', 'restylestari', 'jaceypants', 'strongsinger', 'kolsch', 'MelissaWOOF', 'Anne_A4L', 'thehappykid', 'nathanryder', 'erinblaskie', 'PaulaMacKay', 'Maayanc', 'doson', 'kateparry', 'CathrynMarie', 'tashasiian', 'Joshuah_Pearson', 'mustntgrumble', 'imnisa', 'taylormcfly', '12gaBrowningGal', 'leeshbeesh', 'elisabeth_L5', 'IzzySc', 'Courtneex3', 'swannny', 'xscarletmx', 'mo3ath', 'JanaAlyssa', 'im_stef', 'heybm', 'Hjoorth', 'earthxplorer', 'anieszkaa', 'bk_ii', 'uyaerdna', 'hortovanyi', 'shinsh0ku', 'veronica78', 'cavorting', 'RoseStack', 'thecraigmorris', 'spaulds1', 'emmao414', 'kathyxxxx', 'MegsEggs', 'Thewie72', 'ezrabutler', 'pingpingss', 'Celz29', 'Purplemayte', 'MacSheikh', 'parisperfection', 'xconway', 'Tittybird', 'missmonnie', 'SallytheShizzle', 'CateP36', 'sharonhayes', 'SomersetBob', 'franalations', 'xamylouise', 'gab_iii', 'JBMareMareJB', 'LizzMartin', 'ilovegoobeck', 'Fluffy_Cupycake', 'daveg38', 'laaaaaaneee', 'Galiiit', 'JennysMyName', 'librantyger', 'endlessblush', 'c_elizabeth', 'williger', '_Brittany_', 'maddisondesigns', 'Sarinninja', 'krapposelli', 'rjakesdub', 'EmeraldDiscount', 'kapkap', 'SoAkemi', 'H3CT0RR0X523', 'Miamoodles', 'HellcatBetty', 'CaraNinaMcfly', 'gschan', 'gypsyraven', 'Mr_Spong', 'missgreens', 'NathalieCaron', 'sugarghc', 'Bopsicle', 'normaltusker', 'Rutherfordium', 'ecaps1', 'exortabreedoll', 'NKOTBFanForLife', 'da_ewok', 'kerri_louise', 'murz13', 'blueholly', 'AtlzFinez', 'kaylaatthedisco', 'kencasey', 'Javamomma', 'Z33LnR44L', 'Christyxcore', 'bexiclepop', 'mweb1', 'prateekgupta', 'danger_skies', 'WWF_Climate', 'imsoapee', 'mam1cutie', 'Cherrim', 'leonorawrr', 'DefyGravity81', 'Rednax42', 'mariakitano', 'jbfanforever94', '16_MileyCyrus', 'k_griffiths', 'nicole_honey', 'sheryonstone', 'WooopJess', 'tinali89', 'tessthetraveler', 'mekkanikal', 'nicelachevanya', 'wahliaodotcom', 'jaronmc', 'HibaNick', 'Ynachan', 'ashleeadams', 'PaperCakes', 'inimeg', 'Gotjuicygirl', 'TwiLove66', 'whoisdjspecialk', 'TheRealRyanHiga', 'Karageorgakis', 'swayshay', 'Happysodme', 'ahmier', 'DisneyDean', 'maryk3lly', 'aDeSe', 'Kikirowr', 'tai927', 'zuppalizzle', 'rach210', '19fischi75', 'janeybelle15', 'siumuimui', 'jethrocarr', 'louise_hendy', 'amys_bus_ticket', 'ChrisandCal', 'JeremyCShipp', 'nova937music', 'SashaKane', 'noodleblue', 'arianneftsk', 'BobBroughton', 'chlostick', 'willtompsett', 'SarahAfiqa', 'amourchaleur', 'paulmason10538', 'MAGGIECHICKEN', 'modernartrocks', 'xXMCR_LadyXx', 'mr_billiam', 'flamingokitty', 'felloff', 'star_girlsophie', 'Spitphyre', 'wd8', 'perki', 'daysparkle', 'BefiBeez', 'EmilyGrabham', 'AlmaLaCubana', 'jeffreeefans', 'rana__xx', 'vibzfabz', 'vanillasuicide', 'jameschau', 'wolfcat', 'morriscat', 'lesley007', 'monnie', 'sdweathers', 'Fanny_Ingabout', 'MissHKS', 'leewaters', 'Sophhs', 'Little_Loz', 'mayhemstudios', 'xoHerbieox', 'Kirstyy09xX', 'HelloLizzi', 'fnordine', 'enked', 'sfgiantsgirl', 'archangelmaggie', 'iLoveColbyO', 'PinkElephant73', 'angelaxjonas', 'blasha', 'givemestrength', 'sangeyvang', 'P0150N0U5F15H', 'joshfittell', 'loris_sl', 'ToksieOlu', 'lukaswinn', 'D_AMAZIN', 'maddiannew', 'NadiaNV', 'Cherye101', 'adlyman', 'cartoonmoney', 'BossTycoonLZ', 'hannahkashman', 'maligaya830', 'Ambershine29', 'sicknastyalison', 'sharmainerae', 'jessicastrust', 'typicaal', 'ChreeesDunn', 'TferThomas', 'drunkenmonkey87', 'Cuttersftbll', 'GodFirst08', 'x33ieroNINJA', 'carlos_teran', 'natalieannem', 'RAVERJONO', 'cloverdash', 'vintagepolka', 'MyAngelll', 'Sheenagerrard', 'dannisaywhat', 'WParenthetical', 'AliceCullenRPG', 'iamloz_JsPR', 'fjkeogh', 'livnb', 'an_other', 'tweetfollow7', 'Mila_17', '_amberlovely', 'BlueOcean85', 'curlydena', 'kirstenj0y', 'Ashley_Cline', 'Isil_Loves_Mcr', 'twishes', 'SUGARvampchick', 'Dannymassacur', 'witnessamiracle', 'arjunghosh', 'LucasLover321', 'UrBaN_eLySsE', 'KateEdwards', 'karenstrunks', 'WiltingSoul', 'kenarmstrong1', 'dinno', 'schaeferj89', 'shellykramer', 'brightondoll', 'aussie_ali', 'limeice', 'rumblepurr', 'tsarnick', 'taluta', 'KatyCaptivated', 'littlefluffycat', 'punchthepotato', 'psibreaker', 'ms_sugakane', 'sarandipity', 'jerryfetus', 'nicolamtan', 'suewaters', 'EvilSue', 'KlownDogg', 'androidtomato', 'xxLOVExxPEACE', 'miss_tattoo', 'elenarr', 'lostkiwi', 'SirCrumpet', 'Theserashow', 'scarletmandy', 'omgwtfannie', 'CyrusFan4Life', 'judez_xo', 'mcraddictal', 'watchasifall', 'ninirific', 'feefeenah', 'MichaelMcNeill', 'Laura6476', 'riiaa', 'thepetshopboy', 'josephranseth', 'Christiegarcia', 'MsKnitSox', 'kyoisorange', 'nsane8', 'joeyfrsh2dth', 'CaroMcFly', 'lonemat', 'ZuriNayeem', 'letssingbaby', 'tweetfollow6', 'marshymiffy', 'toastedfrenchie', 'definatalie', 'pinksugacupcake', 'Ellen_Stafford', 'natashasaurus', 'riotradio', 'niteguardianx', '_shannon1234', 'PixelArtGirl', 'hyperjetrod', 'I_Support_DemiL', 'CherylH77', 'kissability', 'Emmmaa___', 'SinnamonLove', 'cookiemonster82', 'mikefoong', 'purplepleather', 'sugree', 'MummaBear', 'VfactoryFanClub', 'sprinkles_', 'PamsLove', 'citygirl912', 'JennaMadison', 'patpreezy', 'samanthablews', 'Beyy', 'YESitsMEmisty', 'Moonflowerchild', 'Danishbrunette', 'isdown', 'xoryro', 'babealertCEO', 'JessMcFlyxxx', 'webaddict', 'mixmasterfestus', 'DukeSkywalker', 'Propaganda2', 'shutupmeg', 'gerrymoth', 'annasaccone', 'GabezRosales', 'olafsearson', 'iPhoneFuzzball', 'Thea_Smith', 'ilanbr', 'BATMANNN', 'MatchesMalone', '_emmajane_', 'ArunBasilLal', 'life_afairytale', 'damarisens', 'LittleLiverbird', 'erliou56', 'KnightRid', 'bimbler', 'radha_', 'JamesHancox', 'pdurham', 'Djalfy', 'XoGraceoX', 'parawhore182', 'Liverpool_TX', 'iKasperr', 'komplettie', 'mathieule', 'sofiesunshine', 'ian_si', 'caldjr', 'AlOliver', 'JonasAustralia', 'courtney_xxx', 'abcdefglynis', 'WallTweet', 'pearlbones', 'UberDorkGirlie', 'RoryBecker', 'domness', 'anca_foster', 'hypnophil', 'toosweet4rnr', '_Alectrona_', 'webmaster_paul', 'MsStaceyK', 'dancingwithself', 'ryanmwilson', 'Welshbybirth', 'Searock_', 'besz', 'mozzzzy', 'NathanaelB', 'bellmcneill', 'Rachealblack110', 'Buildabear96', 'HappyCassie', 'Mirna023', 'scribblegurl', 'CharmsOfLight', 'maliajonas', 'tallivansunder', 'MissxMarisa', 'NGowers', 'twebbstack', 'Kelliekk', 'histapleface', 'revjesse', 'hollyalyxfinch', 'coliwilso', 'Recamel', 'mister_peterman', 'TheSUPERGIRL', 'iantalbot', 'LexiePixie', '_DINA', 'zarazombie', 'ilostthegame', 'BrandyWandLover', 'PaterzAttack', 'tweetfollow3', 'Spidersamm', 'astyles101', 'tweeteradder9', 'carole29', 'rhidown', 'Wolfgang_', 'Hetty4Christ', 'chanikin', 'lilmo4ever', 'Whatever_Ista', 'DivasMistress', 'semipenguin', 'webwoke', 'Anime81', 'PoynterJones', 'combustiblesong', 'jennysunphoto', 'QueenBxoxo', 'bigenya', 'TizBanana', 'Sion71', 'luckygnahhh', 'EternalAegis', 'WalkingHorse', 'paigeebaby', 'MupNorth', 'tweeteradder15', 'Bruno108', 'torilovesbradie', 'ComedyQueen', 'tweetfollow4', 'yolie81', 'MyAppleStuff', 'bryancheung', 'pcornqueen', 'BreakDancingAmy', 'JBnVFCLover786', 'missgiggly', 'WTFJAY', 'roxiijonas', 'bitchville', 'Tyrone17', 'kyelani', 'georgie_carroll', 'is_selene', 'jbmcdlts', 'xoCAZZA', 'shanajaca', 'Dutchrudder', 'tweeteradder14', 'tweeteradder17', 'tweeteradder18', 'smartestgames', 'violetbakes', 'magnusholmgren', 'brianwelburn', 'BW101', 'rbuerckner', 'YatPundit', 'Broooooke_', 'janiecwales', 'Jayme1988', 'aussiemcflyfan', 'xo_mcflyandjb', 'StDAY', 'sunshine_diva', 'TimmyGrunt', 'TessMorris', '_xbianca', 'BBRRIITTTTYY', 'marco_cali', 'nessie111', 'amysav83', 'Itxi_Itx', 'tweeteradder16', 'tweeteradder3', '_magic8ball', 'Ruth_Less1', 'tweeteradder13', 'shellrawlins', 'aimizubouken', 'HarryHarley', 'felicityfuller', 'tweeteradder31', 'tweeteradder6', 'Hollywood_Trey', 'tweeteradder12', 'MiDesfileNegro', 'tweeteradder10', 'wyndwitch', 'tweeteradder8', 'tweeteradder4', 'tweeteradder20', 'amazingphoebe', 'tweeteradder5', 'kasey79', 'nadhiyamali', 'VioletsCRUK', 'tweeteradder7', 'lost_dog', 'Dogbook', 'Karen230683', 'tweeteradder11', 'sebby_peek', 'tweeteradder2', 'isisproject', 'nuttychris', 'tweetpet']\n"
     ]
    }
   ],
   "source": [
    "import collections\n",
    "\n",
    "\n",
    "users_list = list(data['user'])\n",
    "top_users = sorted(collections.Counter(users_list).most_common(), key=lambda x: x[1], reverse=False)\n",
    "top_users = [el[0] for el in top_users if el[1] > 5]\n",
    "print(top_users)"
   ],
   "metadata": {
    "collapsed": false,
    "ExecuteTime": {
     "end_time": "2023-05-30T09:40:28.223676400Z",
     "start_time": "2023-05-30T09:40:28.140413100Z"
    }
   }
  },
  {
   "cell_type": "markdown",
   "source": [
    "#### Salvarea datelor care conțin utilizatorii cei mai activi"
   ],
   "metadata": {
    "collapsed": false
   }
  },
  {
   "cell_type": "code",
   "execution_count": 34,
   "outputs": [],
   "source": [
    "with open('data/tweets.csv') as f:\n",
    "    lines = f.readlines()\n",
    "    header = lines[0]\n",
    "    new_file = [line for line in lines[1:] if line.split(',')[4].split('\"')[1] in top_users]\n",
    "    new_file = [header] + new_file\n",
    "with open('data/tweets_lite.csv', 'w') as f:\n",
    "    f.writelines(new_file)"
   ],
   "metadata": {
    "collapsed": false,
    "ExecuteTime": {
     "end_time": "2023-05-30T09:52:34.978750400Z",
     "start_time": "2023-05-30T09:52:10.554054100Z"
    }
   }
  },
  {
   "cell_type": "markdown",
   "source": [
    "#### Sortarea datelor după id (adică data când au fost postate) și selectarea coloanelor relevante"
   ],
   "metadata": {
    "collapsed": false
   }
  },
  {
   "cell_type": "code",
   "execution_count": 40,
   "outputs": [],
   "source": [
    "data = pd.read_csv('data/tweets_lite.csv', encoding='latin-1')\n",
    "data = data[['id', 'user', 'text', 'target']]\n",
    "sorted_data = data.sort_values(by=['id'], ascending=True)\n",
    "sorted_data.to_csv('data/tweets_lite.csv', index=False)"
   ],
   "metadata": {
    "collapsed": false,
    "ExecuteTime": {
     "end_time": "2023-05-30T10:16:09.895553800Z",
     "start_time": "2023-05-30T10:16:09.419682800Z"
    }
   }
  },
  {
   "cell_type": "markdown",
   "source": [],
   "metadata": {
    "collapsed": false
   }
  }
 ],
 "metadata": {
  "kernelspec": {
   "display_name": "Python 3",
   "language": "python",
   "name": "python3"
  },
  "language_info": {
   "codemirror_mode": {
    "name": "ipython",
    "version": 2
   },
   "file_extension": ".py",
   "mimetype": "text/x-python",
   "name": "python",
   "nbconvert_exporter": "python",
   "pygments_lexer": "ipython2",
   "version": "2.7.6"
  }
 },
 "nbformat": 4,
 "nbformat_minor": 0
}
