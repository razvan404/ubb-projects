{
 "cells": [
  {
   "attachments": {},
   "cell_type": "markdown",
   "metadata": {},
   "source": [
    "### <strong>Preprocesarea setului de date pentru Algoritmul 3</strong>\n",
    "\n",
    "Vrem să păstrăm din setul de date doar imaginea, sentimentul corespunzător și gradul de încredere al sentimentului ales.\n",
    "\n",
    "#### Funcția pentru thread în care testăm dacă imaginea de la url-ul respectiv este una validă"
   ]
  },
  {
   "cell_type": "code",
   "execution_count": null,
   "metadata": {},
   "outputs": [],
   "source": [
    "import PIL\n",
    "import requests\n",
    "from PIL import Image\n",
    "from io import BytesIO\n",
    "\n",
    "\n",
    "def parse_file(url, data, idx, mutex):\n",
    "    try:\n",
    "        response = requests.get(url)\n",
    "        Image.open(BytesIO(response.content))\n",
    "    except PIL.UnidentifiedImageError:\n",
    "        mutex.acquire()\n",
    "        print(url)\n",
    "        data.drop(idx, inplace=True)\n",
    "        data.to_csv(\"data/image-sentiment-polarity.csv\", index=False)\n",
    "        mutex.release()\n",
    "        return None"
   ]
  },
  {
   "attachments": {},
   "cell_type": "markdown",
   "metadata": {},
   "source": [
    "#### Funcția care creează thread-ul care va procesa informația"
   ]
  },
  {
   "cell_type": "code",
   "execution_count": null,
   "metadata": {},
   "outputs": [],
   "source": [
    "from threading import Thread\n",
    "\n",
    "\n",
    "def read_image_from_url(url: str, data, idx, mutex):\n",
    "    thread = Thread(target=parse_file, args=(url, data, idx, mutex))\n",
    "    thread.start()\n",
    "    return thread"
   ]
  },
  {
   "attachments": {},
   "cell_type": "markdown",
   "metadata": {},
   "source": [
    "#### Se pornesc batch-uri de 2000 de thread-uri care verifică dacă imaginile sunt valide"
   ]
  },
  {
   "cell_type": "code",
   "execution_count": null,
   "metadata": {},
   "outputs": [],
   "source": [
    "import pandas as pd\n",
    "from threading import Lock\n",
    "\n",
    "\n",
    "data = pd.read_csv(\"data/image-Sentiment-polarity-DFE.csv\")\n",
    "data = data[['which_of_these_sentiment_scores_does_the_above_image_fit_into_best', 'which_of_these_sentiment_scores_does_the_above_image_fit_into_best:confidence', 'imageurl']]\n",
    "data = data.dropna()\n",
    "data = data.drop_duplicates()\n",
    "data.to_csv(\"data/image-sentiment-polarity.csv\", index=False)\n",
    "threads = []\n",
    "mutex = Lock()\n",
    "for idx, row in data.iterrows():\n",
    "    threads.append(read_image_from_url(row['imageurl'], data, idx, mutex))\n",
    "    if idx % 2000 == 0 and idx > 0:\n",
    "        for thread in threads:\n",
    "            thread.join()\n",
    "        threads = []"
   ]
  }
 ],
 "metadata": {
  "language_info": {
   "name": "python"
  },
  "orig_nbformat": 4
 },
 "nbformat": 4,
 "nbformat_minor": 2
}
